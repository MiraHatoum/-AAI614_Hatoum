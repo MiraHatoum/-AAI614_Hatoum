{
  "cells": [
    {
      "cell_type": "markdown",
      "metadata": {
        "id": "view-in-github",
        "colab_type": "text"
      },
      "source": [
        "<a href=\"https://colab.research.google.com/github/MiraHatoum/-AAI614_Hatoum/blob/main/Project_Skeleton.ipynb\" target=\"_parent\"><img src=\"https://colab.research.google.com/assets/colab-badge.svg\" alt=\"Open In Colab\"/></a>"
      ]
    },
    {
      "cell_type": "markdown",
      "metadata": {
        "id": "bBz5sbmhN1N5"
      },
      "source": [
        "# AAI614: Data Science & its Applications\n",
        "\n",
        "*Project-Skeleton: DAnalyzing Skiils from Job Postings*\n",
        "\n",
        "<a href=\"https://colab.research.google.com/github/harmanani/AAI614/blob/main/Week%207/Project-Skeleton.ipynb\" target=\"_parent\"><img src=\"https://colab.research.google.com/assets/colab-badge.svg\" alt=\"Open In Colab\"/></a>"
      ]
    },
    {
      "cell_type": "code",
      "execution_count": 20,
      "metadata": {
        "colab": {
          "base_uri": "https://localhost:8080/"
        },
        "id": "KyWTAcrfN1N8",
        "outputId": "985c79a9-121b-4eaa-dd3a-ae3ff34cc2e4"
      },
      "outputs": [
        {
          "output_type": "stream",
          "name": "stdout",
          "text": [
            "We've loaded 0 HTML files.\n"
          ]
        }
      ],
      "source": [
        "# We'll begin by loading all the HTML files in the `job_postings` directory.\n",
        "# Loading HTML files**\n",
        "\n",
        "import glob\n",
        "html_contents = []\n",
        "\n",
        "for file_name in sorted(glob.glob('job_postings/*.html')):\n",
        "    with open(file_name, 'r') as f:\n",
        "        html_contents.append(f.read())\n",
        "\n",
        "print(f\"We've loaded {len(html_contents)} HTML files.\")"
      ]
    },
    {
      "cell_type": "markdown",
      "metadata": {
        "id": "rdxIglrNN1N9"
      },
      "source": [
        "We've loaded 1458 HTML files into `html_contents`. Each HTML file can be parsed using Beautiful Soup.\n",
        "\n",
        "**Parsing HTML files**"
      ]
    },
    {
      "cell_type": "code",
      "execution_count": 21,
      "metadata": {
        "colab": {
          "base_uri": "https://localhost:8080/"
        },
        "id": "zJL61BIdN1N9",
        "outputId": "1696ddfd-c770-4e6a-adb4-f09f1de2a7a8"
      },
      "outputs": [
        {
          "output_type": "stream",
          "name": "stdout",
          "text": [
            "Requirement already satisfied: beautifulsoup4 in /usr/local/lib/python3.10/dist-packages (4.12.3)\n",
            "Requirement already satisfied: soupsieve>1.2 in /usr/local/lib/python3.10/dist-packages (from beautifulsoup4) (2.6)\n"
          ]
        }
      ],
      "source": [
        "!pip install beautifulsoup4\n",
        "\n",
        "from bs4 import BeautifulSoup\n",
        "\n",
        "# Assuming html_contents is a list of HTML strings\n",
        "soup_objects = []  #\n",
        "for html in html_contents:\n",
        "    soup = BeautifulSoup(html, 'html.parser')\n",
        "    assert soup.title is not None, \"Title is missing in the HTML file\"\n",
        "    assert soup.body is not None, \"Body is missing in the HTML file\"\n",
        "    soup_objects.append(soup)\n",
        "\n",
        "for soup in soup_objects:\n",
        "    print(f\"Title: {soup.title.string}\")\n",
        "    print(f\"Body: {soup.body.text}\")\n"
      ]
    },
    {
      "cell_type": "markdown",
      "metadata": {
        "id": "hAhOQdtNN1N-"
      },
      "source": [
        "Each parsed HTML file contains a title and a body.  Are there any duplicates across the titles or bodies of these files? We can find out by using Pandas.\n",
        "\n",
        "**Checking title and body texts for duplicates**"
      ]
    },
    {
      "cell_type": "code",
      "execution_count": 22,
      "metadata": {
        "colab": {
          "base_uri": "https://localhost:8080/"
        },
        "id": "_2kGZJhMN1N-",
        "outputId": "e9301a30-4ac3-4791-d137-763c3e2ceec6"
      },
      "outputs": [
        {
          "output_type": "stream",
          "name": "stdout",
          "text": [
            "       Title  Body\n",
            "count    0.0   0.0\n",
            "mean     NaN   NaN\n",
            "std      NaN   NaN\n",
            "min      NaN   NaN\n",
            "25%      NaN   NaN\n",
            "50%      NaN   NaN\n",
            "75%      NaN   NaN\n",
            "max      NaN   NaN\n"
          ]
        }
      ],
      "source": [
        "import pandas as pd\n",
        "\n",
        "html_dict = {'Title': [], 'Body': []}\n",
        "\n",
        "# Loop through each BeautifulSoup object in soup_objects\n",
        "for soup in soup_objects:\n",
        "    # Extract title\n",
        "    title = soup.title.string if soup.title else \"No Title\"\n",
        "\n",
        "    # Extract body\n",
        "    body = soup.body.get_text(strip=True) if soup.body else \"No Body Content\"\n",
        "\n",
        "    # Append extracted title and body to the dictionary\n",
        "    html_dict['Title'].append(title)\n",
        "    html_dict['Body'].append(body)\n",
        "\n",
        "# Convert the dictionary to a Pandas DataFrame\n",
        "df_jobs = pd.DataFrame(html_dict)\n",
        "\n",
        "# Summary of the DataFrame\n",
        "summary = df_jobs.describe(include='all')\n",
        "print(summary)\n"
      ]
    },
    {
      "cell_type": "markdown",
      "metadata": {
        "id": "uY9p6bO7N1N_"
      },
      "source": [
        "We’ve confirmed that no duplicates are present within the html. Now, lets explore the HTML content in more detail. The goal of our exploration will be to determine how job-skills are described in the HTML.\n",
        "\n",
        "### Exploring the HTML for Skill Descriptions\n",
        "\n",
        "We’ll start our exploration by rendering the HTML at index of 0 of `html_contents`.\n",
        "\n",
        "**Rendering the HTML of the first job-posting**"
      ]
    },
    {
      "cell_type": "code",
      "source": [
        "from google.colab import files\n",
        "\n",
        "# Upload file\n",
        "uploaded = files.upload()\n",
        "\n",
        "# Check the uploaded files\n",
        "for file_name in uploaded.keys():\n",
        "    print(f\"Uploaded file: {file_name}\")\n"
      ],
      "metadata": {
        "colab": {
          "base_uri": "https://localhost:8080/",
          "height": 91
        },
        "id": "HAVEdTDgogUC",
        "outputId": "9a344c61-2228-4347-962b-dcd62d0f93ab"
      },
      "execution_count": 23,
      "outputs": [
        {
          "output_type": "display_data",
          "data": {
            "text/plain": [
              "<IPython.core.display.HTML object>"
            ],
            "text/html": [
              "\n",
              "     <input type=\"file\" id=\"files-3d953f0b-9637-470b-a6a7-cce73e827eb3\" name=\"files[]\" multiple disabled\n",
              "        style=\"border:none\" />\n",
              "     <output id=\"result-3d953f0b-9637-470b-a6a7-cce73e827eb3\">\n",
              "      Upload widget is only available when the cell has been executed in the\n",
              "      current browser session. Please rerun this cell to enable.\n",
              "      </output>\n",
              "      <script>// Copyright 2017 Google LLC\n",
              "//\n",
              "// Licensed under the Apache License, Version 2.0 (the \"License\");\n",
              "// you may not use this file except in compliance with the License.\n",
              "// You may obtain a copy of the License at\n",
              "//\n",
              "//      http://www.apache.org/licenses/LICENSE-2.0\n",
              "//\n",
              "// Unless required by applicable law or agreed to in writing, software\n",
              "// distributed under the License is distributed on an \"AS IS\" BASIS,\n",
              "// WITHOUT WARRANTIES OR CONDITIONS OF ANY KIND, either express or implied.\n",
              "// See the License for the specific language governing permissions and\n",
              "// limitations under the License.\n",
              "\n",
              "/**\n",
              " * @fileoverview Helpers for google.colab Python module.\n",
              " */\n",
              "(function(scope) {\n",
              "function span(text, styleAttributes = {}) {\n",
              "  const element = document.createElement('span');\n",
              "  element.textContent = text;\n",
              "  for (const key of Object.keys(styleAttributes)) {\n",
              "    element.style[key] = styleAttributes[key];\n",
              "  }\n",
              "  return element;\n",
              "}\n",
              "\n",
              "// Max number of bytes which will be uploaded at a time.\n",
              "const MAX_PAYLOAD_SIZE = 100 * 1024;\n",
              "\n",
              "function _uploadFiles(inputId, outputId) {\n",
              "  const steps = uploadFilesStep(inputId, outputId);\n",
              "  const outputElement = document.getElementById(outputId);\n",
              "  // Cache steps on the outputElement to make it available for the next call\n",
              "  // to uploadFilesContinue from Python.\n",
              "  outputElement.steps = steps;\n",
              "\n",
              "  return _uploadFilesContinue(outputId);\n",
              "}\n",
              "\n",
              "// This is roughly an async generator (not supported in the browser yet),\n",
              "// where there are multiple asynchronous steps and the Python side is going\n",
              "// to poll for completion of each step.\n",
              "// This uses a Promise to block the python side on completion of each step,\n",
              "// then passes the result of the previous step as the input to the next step.\n",
              "function _uploadFilesContinue(outputId) {\n",
              "  const outputElement = document.getElementById(outputId);\n",
              "  const steps = outputElement.steps;\n",
              "\n",
              "  const next = steps.next(outputElement.lastPromiseValue);\n",
              "  return Promise.resolve(next.value.promise).then((value) => {\n",
              "    // Cache the last promise value to make it available to the next\n",
              "    // step of the generator.\n",
              "    outputElement.lastPromiseValue = value;\n",
              "    return next.value.response;\n",
              "  });\n",
              "}\n",
              "\n",
              "/**\n",
              " * Generator function which is called between each async step of the upload\n",
              " * process.\n",
              " * @param {string} inputId Element ID of the input file picker element.\n",
              " * @param {string} outputId Element ID of the output display.\n",
              " * @return {!Iterable<!Object>} Iterable of next steps.\n",
              " */\n",
              "function* uploadFilesStep(inputId, outputId) {\n",
              "  const inputElement = document.getElementById(inputId);\n",
              "  inputElement.disabled = false;\n",
              "\n",
              "  const outputElement = document.getElementById(outputId);\n",
              "  outputElement.innerHTML = '';\n",
              "\n",
              "  const pickedPromise = new Promise((resolve) => {\n",
              "    inputElement.addEventListener('change', (e) => {\n",
              "      resolve(e.target.files);\n",
              "    });\n",
              "  });\n",
              "\n",
              "  const cancel = document.createElement('button');\n",
              "  inputElement.parentElement.appendChild(cancel);\n",
              "  cancel.textContent = 'Cancel upload';\n",
              "  const cancelPromise = new Promise((resolve) => {\n",
              "    cancel.onclick = () => {\n",
              "      resolve(null);\n",
              "    };\n",
              "  });\n",
              "\n",
              "  // Wait for the user to pick the files.\n",
              "  const files = yield {\n",
              "    promise: Promise.race([pickedPromise, cancelPromise]),\n",
              "    response: {\n",
              "      action: 'starting',\n",
              "    }\n",
              "  };\n",
              "\n",
              "  cancel.remove();\n",
              "\n",
              "  // Disable the input element since further picks are not allowed.\n",
              "  inputElement.disabled = true;\n",
              "\n",
              "  if (!files) {\n",
              "    return {\n",
              "      response: {\n",
              "        action: 'complete',\n",
              "      }\n",
              "    };\n",
              "  }\n",
              "\n",
              "  for (const file of files) {\n",
              "    const li = document.createElement('li');\n",
              "    li.append(span(file.name, {fontWeight: 'bold'}));\n",
              "    li.append(span(\n",
              "        `(${file.type || 'n/a'}) - ${file.size} bytes, ` +\n",
              "        `last modified: ${\n",
              "            file.lastModifiedDate ? file.lastModifiedDate.toLocaleDateString() :\n",
              "                                    'n/a'} - `));\n",
              "    const percent = span('0% done');\n",
              "    li.appendChild(percent);\n",
              "\n",
              "    outputElement.appendChild(li);\n",
              "\n",
              "    const fileDataPromise = new Promise((resolve) => {\n",
              "      const reader = new FileReader();\n",
              "      reader.onload = (e) => {\n",
              "        resolve(e.target.result);\n",
              "      };\n",
              "      reader.readAsArrayBuffer(file);\n",
              "    });\n",
              "    // Wait for the data to be ready.\n",
              "    let fileData = yield {\n",
              "      promise: fileDataPromise,\n",
              "      response: {\n",
              "        action: 'continue',\n",
              "      }\n",
              "    };\n",
              "\n",
              "    // Use a chunked sending to avoid message size limits. See b/62115660.\n",
              "    let position = 0;\n",
              "    do {\n",
              "      const length = Math.min(fileData.byteLength - position, MAX_PAYLOAD_SIZE);\n",
              "      const chunk = new Uint8Array(fileData, position, length);\n",
              "      position += length;\n",
              "\n",
              "      const base64 = btoa(String.fromCharCode.apply(null, chunk));\n",
              "      yield {\n",
              "        response: {\n",
              "          action: 'append',\n",
              "          file: file.name,\n",
              "          data: base64,\n",
              "        },\n",
              "      };\n",
              "\n",
              "      let percentDone = fileData.byteLength === 0 ?\n",
              "          100 :\n",
              "          Math.round((position / fileData.byteLength) * 100);\n",
              "      percent.textContent = `${percentDone}% done`;\n",
              "\n",
              "    } while (position < fileData.byteLength);\n",
              "  }\n",
              "\n",
              "  // All done.\n",
              "  yield {\n",
              "    response: {\n",
              "      action: 'complete',\n",
              "    }\n",
              "  };\n",
              "}\n",
              "\n",
              "scope.google = scope.google || {};\n",
              "scope.google.colab = scope.google.colab || {};\n",
              "scope.google.colab._files = {\n",
              "  _uploadFiles,\n",
              "  _uploadFilesContinue,\n",
              "};\n",
              "})(self);\n",
              "</script> "
            ]
          },
          "metadata": {}
        },
        {
          "output_type": "stream",
          "name": "stdout",
          "text": [
            "Saving Skeleton.zip to Skeleton (1).zip\n",
            "Uploaded file: Skeleton (1).zip\n"
          ]
        }
      ]
    },
    {
      "cell_type": "code",
      "source": [
        "zip_file_name = \"Skeleton.zip\"\n",
        "if zip_file_name in uploaded:\n",
        "    with ZipFile(zip_file_name, 'r') as zip_ref:\n",
        "        zip_ref.extractall(\"/content/Skeleton\")\n",
        "    print(f\"Extracted files into /content/Skeleton\")\n",
        "else:\n",
        "    print(f\"Error: {zip_file_name} not found in uploaded files.\")"
      ],
      "metadata": {
        "colab": {
          "base_uri": "https://localhost:8080/"
        },
        "id": "bEj8shA3o6rf",
        "outputId": "8de133e8-ebb7-4a0b-c8de-1b22fc052354"
      },
      "execution_count": 25,
      "outputs": [
        {
          "output_type": "stream",
          "name": "stdout",
          "text": [
            "Error: Skeleton.zip not found in uploaded files.\n"
          ]
        }
      ]
    },
    {
      "cell_type": "code",
      "source": [
        "job_postings_folder = \"/content/Skeleton/job_postings\"\n",
        "\n",
        "# Step 4: Check if job_postings folder exists\n",
        "if os.path.exists(job_postings_folder):\n",
        "    print(f\"Job postings folder found. Files inside: {os.listdir(job_postings_folder)}\")\n",
        "else:\n",
        "    print(\"Error: job_postings folder not found.\")\n",
        "\n",
        "# Step 5: Load HTML files from the folder\n",
        "html_contents = []\n",
        "if os.path.exists(job_postings_folder):\n",
        "    for filename in os.listdir(job_postings_folder):\n",
        "        file_path = os.path.join(job_postings_folder, filename)\n",
        "        with open(file_path, 'r', encoding='utf-8') as file:\n",
        "            html_contents.append(file.read())\n"
      ],
      "metadata": {
        "colab": {
          "base_uri": "https://localhost:8080/"
        },
        "id": "0yPMPZTJpAuv",
        "outputId": "e24bb10c-8494-4cfc-9a1c-68c922546a94"
      },
      "execution_count": 26,
      "outputs": [
        {
          "output_type": "stream",
          "name": "stdout",
          "text": [
            "Job postings folder found. Files inside: ['d96d1b855fc32e93.html', 'b3970acbbafe4303.html', '76110569c4453cf8.html', '4cfcccc44546cca0.html', 'e240cfa9d039bf89.html', 'cb8a5bce330854e9.html', '04817d18faa6531c.html', 'c66d957b740937cd.html', '5642ec147f59ae1b.html', '7184ee7926e95ed4.html', 'f7d80206b7cd0e08.html', '496c53c9e9719b75.html', 'd54b204e76da502e.html', '65e6e1c343521afe.html', '1c30856963b47a64.html', '5e69e3d194ab13d0.html', '70d4373928bfaa5c.html', '996a77e8b4b00c1f.html', '142fb4a5703ac62c.html', '84c30fe5e0ac8ce1.html', '1cb77bad57881319.html', '104d2516da292ccb.html', '6143b2858abed0aa.html', 'ab4657c7b55c2f2a.html', 'd57c2ecf28d37921.html', 'f8174b7d6c0bbfb1.html', '44421c41bfc8b596.html', '9ba3f7ae9ea2cb59.html', '26167c0cf58d2ccc.html', 'd7b42b3957a30ddb.html', 'b6590ace79f97088.html', 'c3cac496578fb850.html', '692aeb0f7811b794.html', '3ab68716eb043585.html', 'a43053c71e706af0.html', '53382bae1f668382.html', '993cabe47105b4df.html', 'a062d8d5593540ad.html', '7ad5e9409deb84c5.html', '665d6be810bb9735.html', 'f2a3ac1365f46e4a.html', '616bcd17cb564d38.html', 'e5d505bd4b37baba.html', '37059acb7f05438b.html', '22ec0d056a58a782.html', '30af8c722a93ceaf.html', 'f04e25526647d558.html', '971a316499ccfc72.html', '2b577c50a53aad34.html', 'af6a31da7a74b6ac.html', '666d7251f000535a.html', '835a77d4726905a4.html', 'd841f1f129460ce0.html', 'a1d949a71fe0ab4b.html', '14a59bf4f1f9e350.html', '10696f63a1cd372e.html', '6aee8c147590511e.html', '1efd04e75c430a47.html', '42768394f70ef354.html', 'b8a81f5a7b0399c5.html', '7a440ff0d3a1fb19.html', '2563a48bdc893403.html', '3e4cd2a7e6f28857.html', '0598b7efa8b53aef.html', '7273cb72df304949.html', '85171a0feb34c38a.html', '9ed0e14aee013880.html', '5cca03b0bb1da997.html', '97d4ed40e14938ef.html', '1aafd442a5709541.html', '994235d333d5d931.html', '3157fcef3ee474da.html', '62670fcf87f91d96.html', '531bb06027df3f7c.html', '38c7c1fa3894c3d3.html', '4b5a269292abeac1.html', '2fd87954bb4b2ad0.html', '21091c4562d65586.html', '05bbd20f59b2b295.html', 'e8d96ff38f17ef78.html', 'f664f8b4fe53f808.html', '7801a721ed77f806.html', '31674416f4ee6674.html', '9c1b6eb2d342cdf0.html', '9bad5130445c4e63.html', '018866568cd5a0b0.html', '200ba3791745929d.html', '9d355c7b3c35b41e.html', '685f06ef5155034f.html', '60b859fd7afe6dea.html', 'f153a9aa0bae6cd4.html', 'b4181821281335e1.html', '733a9389747bd6bb.html', '0a1748836ea179c1.html', '3010226c7149a4f0.html', 'a2813aedcda79913.html', '259ffd5289fca87d.html', '3df7d5090e5d4368.html', '150653d428f2acf0.html', '57fb6e96a055cbaf.html', '9d2594e8bb6f6d5d.html', 'cf9c254a62222352.html', '13c2c81ce7b5a63e.html', '67dafec654e7c111.html', 'ea487254a487beb5.html', 'f49a37177defee7d.html', '25d3528f03e77a6a.html', '223b4c82fe6f8da9.html', '3820cb3051c0ef58.html', '5bf9d8f44a133eaa.html', '561ad28d337f3325.html', '747a26e4952dd8f0.html', 'd56cf9e32302f26f.html', '9749833517bf1e51.html', '85664fbf9b6faaf0.html', '57db65d33020166f.html', '431ea045ec879f15.html', '4872a34a5dfdd332.html', '1c037b02f22d94db.html', 'c7dac41d8e0def2b.html', '20ff6e59e92414e7.html', 'eae6a77e92c0c905.html', '30f4b3fc42fce0da.html', '246d04edbd40b608.html', '0ee0ae6ba0ed34f5.html', '18c9687f57920916.html', 'dae4146bb7474fad.html', '41bb7eb0612bcc04.html', '863e5a7c5f6e548d.html', 'f81ccf9d3218eed3.html', '83153a99a2e59ba7.html', '88d6b4d06d76097e.html', '21ab98decb1df9c6.html', 'd8d1f22735f9b962.html', 'e893a7fb794e6da8.html', 'a1c2e0d0835ecebe.html', 'e3c6622f84147e44.html', '26a9bb2e0084f856.html', '4b4ac81b9d40ff03.html', 'f760036e4f12e596.html', '5141331158ad3ba2.html', '188be042a58efa2c.html', 'bc52c06071141870.html', '48c9cabdf8acf764.html', '7a7a6c163f14ab64.html', '6dbe1d5a7fef1d6f.html', '6bb4f3cc9ab6a50a.html', 'fc072cf68d7574af.html', '5a1c15872d3d8c25.html', 'fb17842d02292e83.html', '59201f1d99797458.html', 'fc5a07ecebf0a40a.html', 'e152f61881358ded.html', '28d1f60ff04cab03.html', 'a973456cb359e019.html', 'c46bd9d5e51bd2cb.html', '263f803b8c22ea09.html', '3fb2ca328e33135a.html', '2908dca57a2450ac.html', 'cd53b59933db2b6a.html', '2a20c782916d6f23.html', '0af867267ad42e1d.html', '1356a4d07db75a0d.html', '9c561782a3045c1d.html', '34ece1a36f4f2c9d.html', '5a34931843caa689.html', '2cb5a41aafebf8c5.html', '0a722717f6e5c86b.html', '31eb72f3053be681.html', '4fdd7c1865ce0893.html', '603b0ccb3d2be09a.html', 'e6792b144e84505c.html', '9f43077fb51d74d7.html', 'ce1ad7446f65ee00.html', '39c7e52b7f2f10f3.html', 'b6a578b78f9fb644.html', '4a43e4f0eb37cf90.html', '6172582f734a32b4.html', '19787351d1ef4c60.html', '267e7cf7de2959c7.html', '4f1f34e05be5bcf8.html', 'd22db1af4993d45f.html', 'c3a86569fa28c08d.html', 'ab9f205d8dfa65db.html', '206ca14924ada590.html', '337d57fac6400cd2.html', '159b92123a8cbb44.html', 'a37a4ad6a09a5f15.html', '45345be501062dd9.html', '407029e63a6217ae.html', 'b65beeee388a2d62.html', 'c0729f635933006d.html', '28d330f60689bdcb.html', 'b96714f93e0cc239.html', '21c7c8434e17143a.html', 'f0efa7dbaea86c8d.html', '1cfe3aa1933eb661.html', '4b53bf000ca326cd.html', '3588576103e31e6d.html', '25b242bfe29e791c.html', '84ac47954ae52c40.html', 'ecd08eb71e35f8b4.html', '8a99b344fb0759fb.html', '551b276663e03b55.html', '1157ca2f0e5dbb16.html', 'f78e412045e6684f.html', '2012f9a3fa415571.html', '0d1b6811b1a0f1c3.html', 'ebc52ba388dc4cff.html', '242bbe38bd12e721.html', 'bd4bace772f8c6a8.html', '236d1592bccd1596.html', 'd8fab8c9b0c4d6ca.html', '9ae19e02eeec080c.html', '09a172128613e815.html', '20f5c186ec6a0478.html', 'efd86d658fba6b5f.html', '3f7418384ba3940f.html', '0a518d7e56e7635e.html', '8a57ec38468f3689.html', '5305c65efd349c0f.html', 'cd356180d96f0557.html', '8b9d80be9a971078.html', '0e6e594f3551049b.html', '56a6f4598dd4f43f.html', '63cfb6d10a4da16c.html', 'd82a670d90f4c43d.html', 'b9d8e3dd396196c4.html', '7a35d1b7779e0170.html', 'd7a37a1c860ae69f.html', 'f4a25ad785ff1e3e.html', '0f2b35757349c94d.html', '3b2bc1ad8d0a664e.html', '5b97c69d416ffe00.html', 'afd3016b5d3c707f.html', '54de6cc608c6ad33.html', 'edf1dbbea28cb6ea.html', '176fdee1263ec1eb.html', '6d761823ac0a145e.html', 'b20c96c18b49311f.html', '0ac2d19e34f2c42e.html', '15ea1bf724360627.html', '6dd973b4a78c2c37.html', 'dfa134c6b3e12dcc.html', 'd91cc371dc2c1d1a.html', 'b63c2c689d38d2b9.html', '71f92e76a465b50d.html', 'd6480b8e776b6e00.html', 'bb0266f0887d9c8e.html', 'a80f79780d496710.html', '4145274d0b8bbe86.html', 'e2350ed22607a9d1.html', '3f852f7a1a4e89f8.html', '6c4a5b5a26551f74.html', 'e9b28c2676540128.html', '7c36cd38c5ecd578.html', 'a19a173d93f60634.html', 'a4cdf31a82d9c549.html', '55143c3b81950196.html', '98d20dbc4888d64c.html', '493e001589921d93.html', '0f18a51c907a05bf.html', 'dce8795fc3c7e06e.html', 'b980e8d7521d2e37.html', '248fc4f77bcd6ed6.html', '463cd0b59d040479.html', '99f56742aad10da8.html', 'cb9c4e308304e7d8.html', '5e4b331354bcdf4e.html', '6bcbe2dd10af4e0e.html', 'fdb0a966956c526e.html', '24a92a727ecef9c2.html', '92b3776c33af25d7.html', '0902c2b9d57bac44.html', 'f41a6612c58a80da.html', '4dbfcbc74e2e5a30.html', '9dd1a7076e7525e8.html', '4cfa9dd5ae3993e5.html', '73f1c1c67f61ee9b.html', '1644e3ef52a7fff4.html', 'd40310b37be4b2ce.html', '4ac1e5923689258b.html', '19b15943f5d3c0c7.html', '27e25a8969ead282.html', 'b561c0a58826534a.html', 'b299ce96f90b5dcb.html', 'd8ea894d611704f9.html', '2922c51dbfc916e3.html', 'be2ef9348eb61aa2.html', 'fa9a55a5da854e49.html', '292f371128334a5c.html', 'aa830022338a8af0.html', '4dc539fcdfbeb4de.html', 'd05d67df757cee49.html', '67fc9b52946a25ed.html', '92d6232af198412b.html', '6f1f7eed1f3f4c0c.html', '7096180c6934a382.html', '4f0d8fe3b415059e.html', '79c3bbf5e57db41a.html', '9f69f498ed771cc5.html', 'b678f3455712f237.html', '9db16f07b096c469.html', '07d4ed2f644971ad.html', '1fcf4a65bd9da593.html', '76c76e140bffad11.html', '6e6400a4eed09098.html', 'df7770900ddefc4b.html', 'fc4a7eb328bda746.html', '5cd74a44213eb3bd.html', '527691c3a164f154.html', 'f4d7032f0061044a.html', '5ff80403645bb46e.html', '0410b4cd5db34fec.html', '330b141dd736d18b.html', 'aa9eb739a9c02c68.html', '351c867a43ee4db5.html', '283c3765132b5c18.html', '8884c5a3ba7e3761.html', '85c5b54cf4fedbb6.html', '3103e40b8a469c69.html', '7d92ac03ae40fbbb.html', '73f9dfe83b556dd6.html', '659d53c7c386050f.html', '96cbe36bb86669af.html', 'f311ba12e14134d2.html', '5c053b7debcd942d.html', 'e4a9a816b591210d.html', '4c5d7d4972a46f98.html', '17a320fb30c7c7ab.html', 'bfdbc9e51b1e2f04.html', 'c9e65c83673ba513.html', 'cac958b05762e6c0.html', 'c8dda197f0c6e06f.html', '6e0fc8fa33a5bc65.html', '6ff9db3258497325.html', '735b47931cd596c4.html', '197da59b3b0f3101.html', '528630d26676273f.html', 'e8397bedcb064ba9.html', '6b3083de64d2a9cb.html', 'c39dacff38327aa3.html', 'a611bfc177bdebc0.html', '7e73af2f248ab531.html', 'a9fbe82762e4fa17.html', 'dd900df45fe03ea4.html', 'e035d899bea37d4d.html', 'f1c76e46461d96e7.html', 'f443db701f134e63.html', 'd0f738b498a8c7db.html', '1ce380781add687e.html', '757cb0d3849d0570.html', '4334d4f7380f1be3.html', '77db13653acd38ec.html', '720cd93cfd4b365f.html', '1a1ac0a0ea18f677.html', '0a22c5c79af5fcf8.html', 'f51a80a979a465b2.html', '1ca9beab05c7fa6b.html', '457c3f90df121c17.html', '84e35df8d8ed697a.html', '3dab159a811f353c.html', 'a71139883fb9a660.html', 'fcc2e7e073797acc.html', '1f191274659a8382.html', '8ba268c71c89c2ec.html', '28db3fcf2254f235.html', 'aa9724a64d565b3d.html', '5bb3f5f1965cb7fb.html', 'd287aae5463c7587.html', '95d6cef82471f3b6.html', '9fa9ebeb188698cc.html', 'a72045f7fe0884e4.html', '007d9d7b5c09d820.html', 'dce651a13a33e641.html', 'e6557a1e5d1de625.html', 'b49d93666899896b.html', '0125eabc844281c9.html', '4068926239bcd32d.html', '5c6cc900a81144ac.html', 'f4078d9b49d8123a.html', '398d2a8083bacc4c.html', 'ce2f028a3ae7d959.html', 'f09b342d48b08975.html', 'e2d0ab71a8001920.html', '4c7dd67c1986cc01.html', '5740ddeb1b1fc807.html', '284b64515c71fda0.html', 'dccafcc68ca2604a.html', '24ec6c8ea9208458.html', 'a97d6d566acf0d1c.html', 'b672827e595ad0f4.html', 'af43c615d3e1af72.html', '0c498a24a2625506.html', 'eddc59ff0dd09c35.html', '715e8ec6a444f739.html', '6eeca2b0ac3f9105.html', 'f85ad23d857625d4.html', 'fe2838f305466298.html', '0a227e938be795bb.html', '913ee2af56c55f13.html', '9e70971b0cb6c56d.html', 'f579e807b5804620.html', '85df9b29fab75d77.html', 'b0ebf2d987c3e5f6.html', 'e27fc813835c382b.html', '190bc2fbe049b1f2.html', 'c5d15d08f2b5b30f.html', '95bc994e82954473.html', '72ac09d6947fcac4.html', 'd3eddd650b52afa5.html', '21fd63ec0bf10a9c.html', 'b11e828d7fca6ff5.html', '91137f7818e3e938.html', '614884d78d132f68.html', '2116e1bafba92513.html', '50feb924160cb690.html', '12f40aa019d3e9c0.html', '66a8043c6d23373e.html', '2419746e43442672.html', 'a9c7383b8b7c097a.html', '8be062b5cc940a17.html', 'a031d23b8c3f6c4a.html', '45e49a7acfd946c0.html', '5ca06c869a7cf321.html', '2ac183413e3f4e3d.html', 'c44cefcc556fff1d.html', '9fbd32a05e51b088.html', 'b6eef2802bd633f5.html', '06d49f8db79069ea.html', '4d8ef3ec26ad0198.html', '473b4c0f1dc1979d.html', '5d01fc3bfcb8f20d.html', '66ed5f175fe8a0ce.html', '1614527eebb8c166.html', '62aab025760e67db.html', '172bc94613e1f42e.html', '70adea5f1df3ff81.html', 'f9089e3103f1c409.html', '2b41bffe7999af36.html', '41181d07cc124ae0.html', '6c7a836d987c1224.html', 'c92a6fbc273d30ae.html', 'b9d73c777d494883.html', '064f745bb5631f9b.html', '17ae6c4b97b2c8b4.html', '516e53e78d80109b.html', 'e67b8ffba61a4f50.html', 'fe385aa11883568f.html', 'a2f2f0dbf5817d51.html', '05622250ca2f97ca.html', '231f6807e11da902.html', '888438f7db57d265.html', '382205c83aed60e5.html', '29f2a5692884ee72.html', '22dc2d83e19d5721.html', '1fe8542aea7dab83.html', '7a39ad181827e170.html', '952b81cdb65910f4.html', '3c6bbbb3d4e780bc.html', '6fb00fef745ed162.html', '82217204f24f746d.html', 'fab3c65aff0b20a5.html', 'b529edaa03cefc35.html', 'be3d5c9e7eaccaab.html', 'fae2d659bf165ede.html', '1e561381f5fb4ce7.html', '37e54d38b5dc3331.html', '382fdcd6c9170667.html', '428c84d73ad82e6d.html', '09c19480dbe9952f.html', '2e3f35424c7899b0.html', '93e0a5f796e8e1c0.html', '54c2a12cab58f1e2.html', '7b03450d50b16f06.html', 'ce46c6c11645c290.html', '784daab47a352ed1.html', '9cb69b6d886301e3.html', 'e508e5d0968e63ce.html', '073776d12c6a7644.html', '1bbd185747ae87ad.html', 'a52a1b6105fa1df6.html', '7fb03b56a2dfa980.html', 'c5622cd831540f67.html', 'fc6c6d5319262018.html', 'f942ea0d410cd066.html', '23ae8d19ffde4231.html', '8827e89d641277a9.html', '5bf08dbbf36b1734.html', '3512afef652e4ac5.html', '66a9497efb891c71.html', '432f50ebe5ceacfe.html', '52fa6cb3e1d843a7.html', '63031f6bc07bda88.html', '4db411b0ea1e8e33.html', 'ae80ea280e47b07d.html', '9759be8d1a8f8e2e.html', 'c8995ab3489515df.html', '498ecab84d9717b2.html', 'afa51ff9090b4ec2.html', '2fae68bef7b7528d.html', '0aeb13fdcb7d434f.html', '2d86e608367c2926.html', '054d04e709095c2b.html', 'db16bbe17b2c6e06.html', '4a49ad4b2bcbd4b2.html', '6d0868224fd2a2f0.html', 'e63ddfea87c5d903.html', 'b42ef962f301b07b.html', 'e9d5bf58074e942f.html', 'b78d2c08649e79a1.html', 'f7c262dc683ee682.html', 'c2853cec5b402db8.html', 'be5c82bd189b794c.html', '922edd8ebd0c4276.html', '313d64f98acae548.html', 'c6d6dbeda0f394f3.html', '4a7894f539b77665.html', '2fa92be11aee9d4d.html', 'ef6ddd72d28902eb.html', 'ef0641dea0489b15.html', 'dd2220438246e865.html', '1fa48e18478a155f.html', 'b41ba70677cff1cd.html', 'f1e4d7c8273edb9d.html', '7fdcfc6a40a67922.html', '28c58e220f123695.html', '079c06375895f02e.html', '991f862a2f3df88c.html', '15772629d1590317.html', 'a016e7a3bd2c548e.html', '00bf37ae19c7dfd7.html', '0c01e4ad32421385.html', 'abc816859ac7d358.html', 'd6b9bc918bb47070.html', 'e407ef0f629ef3a3.html', '3f426ab575084ccb.html', 'e93944548ceaf18d.html', '17fdb7dbc73a3af2.html', 'd51640d8d98bd185.html', '61431af3a37e6c73.html', '23d6d7656c078165.html', '87b855d0c9efd0fc.html', 'ea714c1bdf74bdff.html', '2afdf54c472105e8.html', '8b71d2fded591a19.html', '16b0b64f107e8e9d.html', '8075a0dbe5eb6bd7.html', '75e5ae4367b57813.html', '4008bd80f4ff422a.html', '40d84746953486e1.html', '8aa84c242a48f751.html', '21b9f92d813273e7.html', '9463a94afa55d6cd.html', '9919d4700f217000.html', '6b30c7401a85c546.html', '5471e975feee69b7.html', 'f6130d1ee9dffe42.html', '7147355bf2db38d2.html', '95e29f795e427bad.html', '6ccb22e92f4c5c8a.html', 'f59079301d05a7b2.html', '8e71656ab5867242.html', 'c647eb5cfb5e1670.html', 'b0e743047ca171e1.html', '6acf54368233122a.html', 'f5c63292c5943c96.html', 'e522b972d4e25e73.html', '36df0d30f9f3806a.html', '7aca2d0370ea1b11.html', '6758d113db0d432a.html', '51aab4724bb38ada.html', '66b5c95adc241590.html', '5b1316f77b209c55.html', '8bc6198170f26c17.html', '8f7fa20152756b23.html', '667a0c26793eef75.html', 'b4ba218155c2be3e.html', '7752bf5b20aa68ab.html', 'a1d296e3e3822f7a.html', '55b355a8e7a75866.html', 'b0cadc08400aa1c7.html', '55add7fbeda042e1.html', 'dca5cb33ec9b2339.html', '0945dcc894c6c664.html', '69bf0292975879fa.html', 'f9ee01df580ba190.html', '79812bbda1e5ec0b.html', 'ff81a90403a3f37e.html', '5f1a25e9656078e1.html', 'c23f16733fdb9d74.html', '5b38d9e8accf7b3c.html', 'b36c081e42dc6dfb.html', '81686d429970aa44.html', 'c7271b7ed6cbef5c.html', '18ceaad4b9aa1a8d.html', '5cdb7955a68c4a89.html', '03b7844b77344288.html', 'b21ee514f5e51b1d.html', '4f726bcedd87d9a3.html', '06fb015837858542.html', 'ff0eb6d0b4da2289.html', '3a1cbca10eceb1e8.html', 'd2e8c1c86859cc8e.html', 'e81203ca59acc6dc.html', 'a146948338c8d67e.html', '706a2f592b554b61.html', '4a66d527c9dc6a33.html', '8076878a4a7eab7d.html', 'adf6d425216658e6.html', '7b1ce1db247623a9.html', 'aa3a337fdceb63f2.html', '4544c30fb3f4f5ae.html', '964ffdfa24c146a3.html', '8d4d76923b32650d.html', 'f8afd87cb9e11776.html', 'a4ae108901f180f0.html', 'af6e9e4d7d155600.html', 'dbbae858bb0831b8.html', 'a993ff1a28793da2.html', 'c3cb2bcc1f4bb135.html', '27459625e09c7367.html', '23c29ef4ed6765d9.html', '38d0d0904aa831cb.html', 'eca530cdc5bae1e3.html', '1f7e7fe3c30067dd.html', 'b5a37b55dcbdb3ed.html', '28baa7cd8c5199a5.html', '99129b4fc0b2ade0.html', 'f2fcc92f21dd44b9.html', 'b521d8275ab3eaae.html', 'f27521da38c0e2c2.html', '995d8030d71a26ed.html', '13c9ffc0bcb07c8d.html', '3de1db6451a661e8.html', '89c98a8bedf30b29.html', 'b469119383c80b4c.html', '83e2580b2f0fb1a5.html', '4a85d26da8704d06.html', '30726c460fe08da3.html', 'd89a85ef684c0476.html', 'de64803d377bad81.html', '3973c85acdf5c6c1.html', '1d938e69ee26dcab.html', 'e36cd1402c047bdf.html', '1e92960a19ffdd34.html', 'ac9308399dd565b1.html', '811c7dce4feb994d.html', 'ce962399b9a3b998.html', '09b405a07dc2ebcf.html', 'ce76b0bca8bc3fb4.html', '36d4f69b976b5cab.html', 'a49a48511ab06643.html', '46f696cecb6dea48.html', '77da4e07dda1d1d0.html', 'de8265294e0557da.html', '69cbb1f21d10cd5d.html', '1123f77d78515d01.html', '7ba056b7c3fbf8e7.html', '4f11cd650726bb7c.html', 'af81af488baa00b7.html', 'eb6f15d6422eb50d.html', '79b9aaafe5ce1cd1.html', '4e10553b3a9bf947.html', 'a1ea69f05fcea532.html', '30da93db73e95146.html', 'c9489c4196fcbd63.html', 'ba0fb38226f4d165.html', '37957f430a54a6d2.html', 'de929f0046a05d59.html', '307a530517cfa163.html', '802cb70fbea6cb51.html', 'dd862b8711306a3b.html', '27b96b36fa09f9df.html', '34daff62bfb450bd.html', '1c61a9e892e12f82.html', 'cd7b2c997014ebda.html', '140cf6e9ae690f84.html', '477cc9312aaa6dd7.html', '39c29ff7e43614d0.html', 'ab86516ee1d019c5.html', 'd8786aa78d2b7f04.html', '34c5fab28fa50122.html', 'c36863e89adda209.html', 'f0e056b9f375b020.html', '79b31a9620acffa1.html', '3b6b3b3c2f8c2675.html', 'b8479880869ef246.html', 'b34b2a351b6d5341.html', '631941f2caec9c61.html', '4c4eea5dbe219011.html', '5eda77f9fc519a31.html', '19c826e53834b058.html', 'ceb46a58d174010d.html', 'd21f0f290a8c68e8.html', 'c73a76937d8a17ec.html', 'a509186740d0a802.html', 'b411bcae3cdcb132.html', '4514547a5630b02c.html', '853af841e4457a93.html', 'd749e11ccade7619.html', '42cc5e05a2814668.html', 'ad0baa65043f91e5.html', '1b0e7c81a25d9c0d.html', 'f4102111ed32f7f9.html', 'e1e65fdbf27dadc1.html', '6e042e62414707eb.html', '0a9d8f4b50fd041e.html', 'a98d9520539cf55e.html', '07fbbd21de9b9a36.html', '7a38c671a8ab6ccc.html', '1155e2f8a95827a9.html', 'cc6005a0d4b931dd.html', '50639e6bc1a23676.html', 'a31740eac2b44a9e.html', 'd5084e07b08d8382.html', '7c930e87bc4d9ff5.html', '174b6359679e8428.html', '28fc8475c7fcfcc0.html', '2f40307f15f33076.html', '43dd88e23c3b509f.html', 'd0417e8d5ed8f3c2.html', '1718aab9237e8f96.html', 'bc4fd3a0db5f1792.html', 'de57ef2963876637.html', '5e87015b74684c61.html', '5df153cda190c7e3.html', '5238ae7b66e70830.html', 'e59282779a8fd487.html', '1de6a9e3c3eb1a37.html', '13e20f2d1dc7747e.html', '85f95c9b6d5a2858.html', '170203f4c2b41286.html', 'ab932e50367b6e40.html', '34cf297d6902134d.html', 'd7c3d446ede6e5d8.html', '962cee647c93bc28.html', '2d35bd000fe21e96.html', 'd07ec7c5819249b5.html', '08a5c0929efe96a4.html', 'db042b9e3ea1a7c7.html', '15f361d12e991391.html', '04186a90ce9af7e3.html', '5997805b465da573.html', 'ced30634866c407c.html', '670794b5acd0c604.html', 'c8432f8d3e894083.html', '260c13820dbd4c63.html', '0ec6e70f9a3752cb.html', '140b0a64a65a8be8.html', '21d4a6dd03622e09.html', '417b72e3c8d4d5ec.html', '64a5810a8c86787c.html', '4b2ea0937c7f79ee.html', 'ac468911644c8bd4.html', 'c62730ff8dd3076d.html', 'bb711590271eafa5.html', '7234aff40619c994.html', '70344f4ca0b064a0.html', '54812e562360debd.html', 'd1aac424aa1a8a50.html', '1bc8870fb84cc215.html', 'cfdc11e1a4b9fca6.html', '7b7ce69f70e8d03d.html', 'f73634fe3aec65ed.html', 'd643fceedf7ab8cf.html', '1329d356c58ed243.html', '3842863b278d2981.html', '246a44126df7f931.html', '68b9253167629155.html', '9a53a7cf74243ce1.html', '372c783eef3c398d.html', '7e389d0f96e6349c.html', 'b9b50ed45467be92.html', '5ecf71c3c18dcf52.html', '852bd556969af138.html', 'c2ebc595d078b0f7.html', 'ae416685deba77b5.html', '7ebe97fa9ea93afe.html', '52d6a4dd5975bf41.html', '2f21ed96647f1fa1.html', '8c5f41e23aad9ec2.html', 'e5d21a0431f3555f.html', 'af0a9f90f08019e2.html', 'fc9a3ea9358239cf.html', 'd991b7ac6156bbc3.html', '70ff1a8174eaf3e8.html', 'a30c464eb242c34d.html', '80ef4d1dc297049a.html', '3850bd8742a5e4d1.html', '49847b8b088244a7.html', 'a51575dd641610ec.html', '7688bf23a4e8e7c6.html', 'b423ca22a6e2c10f.html', 'd7895f9a3165e1da.html', 'e2bb5d6d7219a17b.html', '7871129a58dafef3.html', 'd62ceae4b67f9474.html', '84e08b8427c92107.html', '84b9e6bee204e19c.html', '2efe40d815e4bd1f.html', '7a52ff213dfc10c7.html', 'e4f7f8d1e115ecd0.html', '88088691f91338fc.html', 'b8edaaf7395315ca.html', '21c25c983adc504c.html', 'b02aa271d2af7c26.html', '324a20efedb22a53.html', '9185c65dd1396782.html', '6d936b7369dfe0b4.html', 'b56c957a46a2a7ea.html', '99e29ff9793ef497.html', '6a756a296dec28fd.html', '2a8c6a1b064a87d8.html', 'd4b5a9b65538b946.html', '3e315cb3a8db88bd.html', 'e670a5d69c4ab1de.html', '6d46ebdcfdb34fb4.html', '3c5001d4e1edc69b.html', '8707c2ca919bba90.html', '368f6c6137b259e5.html', '2bfee71a0b52aec9.html', '330cdb755eaa9882.html', 'eabcad1f8af00285.html', '42ee1b5c6a1227b6.html', '2e35838a2695eeac.html', '0b9ab79c6dafb2c0.html', '14daba261183a73f.html', '8ec649394176a37a.html', '8e5af777093d5aaf.html', '53402d0d3156d2a5.html', 'da99221f19f5943a.html', '8d51798afdc418c8.html', 'c9318f33512f9566.html', '7936d07eda0c4510.html', '279903d429822a31.html', 'c8df9542f1319b9a_tk.html', '26bf4dca593a0482.html', '4d1eb766c210dfce.html', 'b0abddd94368876e.html', '0df9ee27efa14ca0.html', 'ae54eb45ff521fad.html', 'a504cad692be9d81.html', '71c437dcf4923574.html', '857f770540c9593d.html', '673cbc3a369e02e4.html', 'a4d2c4ae5ef80c98.html', 'bc4af98337dfd21a.html', '9b957c77bb973794.html', '559c2d99d6e2f978.html', 'b31d00c8b3476448.html', '9887198277b281bf.html', '606da40a67a98bcf.html', '5c32825474e5de73.html', '2d99a21cdef0298b.html', '9e78f6a04c7c7088.html', '4f11ca110c32fce1.html', '106a3df3c47f4547.html', 'a34ef0276536fc4f.html', '1bebe14559680b19.html', 'dea24da8e5f7db7c.html', '6ccd517091a6c107.html', 'a5a17d8ae9c02995.html', '5566e10e036d989e.html', '0f296522af3385ec.html', '0079c11b2611349f.html', 'cf1ff05ee5ccdb1b.html', '813cbe25db81910c.html', 'acfcc6e143d8eb92.html', '4eb2d96bd560f444.html', '890e79dd572e47d9.html', '4a3ce7e422ef8d70.html', 'fb2912f036afd8c6.html', 'a818bc6a488f97fc.html', 'a6f7933fb8a2ffb1.html', 'f785db76d081bfc5.html', '6941574bfc4cd9f4.html', '87c55c3fad635a80.html', '24f8532dfdeb8f5b.html', '147610fd5e36df21.html', 'af8f40763e34374c.html', 'd827816a6c40638f.html', 'eec5e778410ad0d5.html', 'fee42538d4a7bb9a.html', '0b825aacb2819412.html', '42e33ef6016cabe8.html', 'fd86dff3ba3f4abb.html', '06e2c7659a3199e9.html', '73f482c7ec0100a7.html', '5ba21b2db576164e.html', 'dc61ea008578e201.html', '2513f7ce8174946b.html', '330e9bac0d614eca.html', '6b765e5267943c64.html', '1657f3a28d8570cd.html', '47d13a4f72e95328.html', 'fd5c88c3fff4cf81.html', '4be3251985c5e00f.html', '4f8df9ddc6e2aa93.html', '82afa910a2577a6e.html', 'f1558ef058b26b85.html', 'e2ec53f87e3c8c5c.html', 'a7b737bed7287733.html', '6de13082ce783972.html', '7b5cbb5b54a2aa2d.html', 'e873af960ae2a96e.html', '97a96f3bcaaf9427.html', '025f464c00c43f58.html', '9b972f6ac82b1faf.html', '0c673d4dd5c3d7a6.html', '74d64b882f79a0bd.html', '9a9ace83a79759d2.html', 'd2dfef55f8d8282e.html', 'ddc708686c096106.html', '9cc7db5a22a76a2c.html', '959140a4edb295ec.html', '5e0971336bc6f93e.html', '0df69399532df243.html', 'b0f3d27331ad0fb7.html', 'cfe05369ba832f99.html', '33a88ec3ce60dae5.html', 'b3f657159b95440c.html', '2b0a3d6ab6920dd2.html', 'ca7c070216cb5521.html', '457f57b9e29944a9.html', 'f0d9ab737db4e7ce.html', '806dbbd11079f4ce.html', '9b21751d4943d7d9.html', '05e113c6cfd125f5.html', 'd304c0eeb5beecbb.html', 'a5e58eeb77b4acb8.html', '16455c6b20d337b1.html', '403a455bcbe133bd.html', '03db5efbdebb59a8.html', 'a836f8c8843ad6a1.html', 'd4741f73485ccdb3.html', '544e4e237037a383.html', '85d58dae292b4628.html', 'b5ca9128f49cabbe.html', '42bbb1e4b7cacd9d.html', '37e9c966ac4c1056.html', 'd91e09305dde0091.html', '6c6e5152265c7595.html', 'df0282d59eb50b88.html', '936eaa3678932eec.html', '08be917f002760ce.html', '1fc529f35001d18f.html', 'dae6e9a51eb89c77.html', '0d64b53942bf4d38.html', '7a5337baf7235d76.html', 'e51c24c6f02b9656.html', '06a385f35dbe05a8.html', '4bcbd09cbdc2f7ab.html', '94ae6fa4bc90abbf.html', 'c000499dd9f2d642.html', '5745401425aa1cff.html', '9e349b9dee710567.html', 'ad01778ed0944b8a.html', 'b8f2efcea11174e7.html', '2587c9bc6f68857c.html', '3181629c413dd04e.html', '0cfd12bcc3976b90.html', 'a6ec27672ae68532.html', '4a550147c9332b73.html', 'e15817b0b1cfd07f.html', 'd3bc4154261e3087.html', 'a0a06a12d63bc8d9.html', 'f09832212857f895.html', '15e5f1349aa2526b.html', '9e017a79efe93de4.html', '815b318dd13c4444.html', 'bcef184e72342741.html', '1c1ded576ec66f45.html', '96c1b9e6f16c5d26.html', 'e15d058a38bc2073.html', 'a79b016f9e63a3a9.html', '1cc352731f5e5a26.html', 'ae22a79ebd83a237.html', '1e7f1707d5382fe8.html', '31b070f3da99e627.html', 'e2d1b869fec09fa6.html', '66955c74ee339b27.html', '0bb8446d7e591e7c.html', '0c569e6055392385.html', '1b2c9fe936689446.html', 'df693596e95a6346.html', '83528d1648e45d6a.html', '9f57934e7b0a76db.html', 'dd5dabecd250fd8a.html', '4f819e617e4108c4.html', 'c5d92b138719400a.html', '81a6f413982ae089.html', '742cf8de03c9ae49.html', '624c6d38e38e1ef4.html', 'ed271cc13fa94496.html', '83d53f533564327d.html', '7c6f0c606db7ebc0.html', '6db72efe796a4736.html', '172c896b81d8c138.html', '4677e712f6cc6301.html', '5b8e1f0e1f1f44d9.html', '2890420f10c89ae8.html', '2d45c5b3a657c973.html', '38527c8a5b5570a1.html', '65ea5748257bcbcf.html', '1e686166d30fd118.html', 'f7d4e48c63a6dc64.html', '75f326050b1b7c10.html', 'a958a3265868e47e.html', '1ab12a1648abd7c8.html', '37656895b590121e.html', '82c6e586c215cf71.html', '7e24de35ac6f4158.html', 'f2cf626a22027353.html', 'cbc691f6651a1435.html', '365a8ef627416a3b.html', 'ad2f2c8061d500f4.html', '27e897f0b7a6f69d.html', '85a24b62479fad81.html', '0dc9b10c4f83ba28.html', '55808d597342dc7c.html', '84ea589ad89a3f2a.html', 'b0575b2717559a6b.html', '014ae4dbded805d2.html', 'c7d3f4adee9888ed.html', 'e4e1d4d1eb65e60d.html', '1ef299b955b53f72.html', 'a999fb34200637e7.html', '84f76ff2786d57c2.html', '0d20d59bb0b52bc8.html', 'a574e26cf7375080.html', '6e286d9264efafab.html', '8e58187c3f403d1c.html', '619e08190fad1e18.html', '0cdc002be4ed3a15.html', '66c2c02452cb15ed.html', '9b74c0dd725746ab.html', '1e7b256fe3ed8491.html', '45e5e47ad01d16dd.html', 'bbdfa3153540290e.html', '41d38cfa6de4d386.html', '570bfe5aaa881f83.html', 'c7e7f1c4475e4ea4.html', '231f53e313474742.html', 'e41443d3bc20e28b.html', '5af3fe8069da81c9.html', '61595a0d07b3c54b.html', 'f1d3d89c3ca75c7d.html', '3b92fa014420587c.html', '270a1e50c5b22ff8.html', '00321a48d04fe754.html', 'e5aa38eba5c3b8e4.html', '309b32d61c0e7317.html', '57957c02f0e94c5a.html', '7ceaada38aa7f665.html', '2caf65cf1b8495ea.html', 'b9eed2e39391c870.html', 'de57f2bde10d5b69.html', '9260ae3565157b27.html', '0cbb9cecaaf2edec.html', '2b880d1c5395ed8d.html', 'cf24c2a4a5a3ee4d.html', 'f97a59f614d0c315.html', '73fe06698d4fb5a8.html', '7c8c59ec56bbfabc.html', 'a87b4417ab091f88.html', '34cb6265a33472c7.html', '07c5ef8930178c96.html', '172155456db55abd.html', '93f28a9036b209eb.html', '4120d78e6349d7d8.html', '48eb9d0a903a4218.html', '67f90da6f58320cf.html', '0dc993df8e337e05.html', 'a059a87f6e115eba.html', '_p.html', '44b76b1a6add97c2.html', '1fafba7825a64bea.html', '4d67456a1a14b6a2.html', '29519fc661388d43.html', 'e3eb98b15f904823.html', 'bb43659bcf7b2093.html', '8ba1188a82b6d9fa.html', '3fe43010facd6001.html', 'af76c6c91578d660.html', '0488045ed4473017.html', '3848a1b91befde7e.html', 'bbb1ae6d816f075f.html', 'b6963c644e3ecddc.html', '3544bbc8f9900976.html', '23024b2c3e813419.html', '408debfae37fce3e.html', 'f5fbc92f86f38934.html', 'de8e71c84787c8b2.html', '311a44dba7d339f1.html', 'b8fdad9355ae03f4.html', '4bc45809dfd991e5.html', '5296567adf37120e.html', 'e2141847bbb80fcc.html', '59942e01240b96b3.html', 'eae081e38a4136fd.html', 'b16865affc0576ed.html', '3c605df8cb93cbd5.html', '0ad57795afb714d6.html', '0203a50423c1dff3.html', 'bb46e8da979d9906.html', '98fd7c6709a44fec.html', 'fce5a384faa51e2e.html', '4e97c151cc30ceeb.html', '1429f3ee5730607a.html', 'e9819b1e053ec480.html', '39e55e5c319077fb.html', '293164549f370d1d.html', 'a033de7217466e1b.html', '94b86ea0bc7a8e2b.html', '99f543eb082b15d0.html', 'f92d77fc0e7b0691.html', '271a4d574dba3beb.html', '1c8576530dcf26f0.html', '14fc0fb5060f54da.html', 'a64b354b9e663168.html', '9e40a4fde0c44f83.html', '691410dd2ca5f8a8.html', '87e2419c989517ea.html', '94a1b0abadb0b94d.html', 'd6fb2c3175dac181.html', '1bf1c59ae4f26c0e.html', '98545ca0ce17b6ab.html', 'bb2cddbcb5d8daef.html', 'd7adfc46261ccdb3.html', '89f3deeb26f07b62.html', '11ab5b64e12bb2af.html', '3b9725f6d2fe49a8.html', '1877887ff3decf95.html', '197aedc9bf6a97fe.html', '4ebc4c8db592e653.html', 'a3a91bac0981aa99.html', '808f7a5dca7e0e81.html', 'd57e364dd4ae30e3.html', '52790a258fd8468d.html', 'a71a563729f2bbdf.html', 'a7acbe86558f65ff.html', '0537cc057dc3fbaf.html', '032a60df9899fe1c.html', 'e1d47f335477b532.html', 'ce5b7d0556c5eb11.html', 'eb7fabccb8e246ef.html', 'c0110393463b0e65.html', 'd58d003e7fea3707.html', '741e07b3af1c27e1.html', '4d46686a73574cbe.html', '3afa4b5a60bab58f.html', '229d54a58e52122a.html', '79f708c2e52b35d7.html', 'a279347a9e6859ae.html', 'd69aba25d9c0ecbf.html', '3827f447eb62cecf.html', 'cba29ba09c81bdfb.html', '8f59fc457384b75c.html', 'dab7bc34b592f4bb.html', 'dfecc558fe6131dd.html', 'd6a5c23db38989f5.html', 'adfe6f06b12acb01.html', 'bced99bab8afc1c4.html', '9be1fa8d8fc2499c.html', '7ebdbbca83161bb3.html', '6723789ff541c8cf.html', '7742aa3cb26b8bee.html', '38e3c610ef54ce4d.html', '32f4d1704541e0f3.html', '83e3f665b22e5695.html', 'e569057e7f99ea9c.html', 'e296e2aea1001038.html', '48db7666d0ca9e36.html', 'e3760feb054e7de4.html', '1661aa9d550a0fbf.html', '0c252caf145b8077.html', 'b44b09c3d4f59868.html', '70a2bb105e7254f5.html', '7ac2a6dd1ffca117.html', 'a8a664ab4e354d74.html', '9efb6f0e4f931bae.html', 'f4139e5101d3d3e7.html', '632ac322a23b9e0b.html', '4de5530e32b3a8f1.html', 'c49bf5a9b76b6943.html', '324e7299de7a26ed.html', '8ce8491c4ecf6b69.html', '3bd4e88d198383f7.html', 'a7182d43f60e532b.html', '5fbe13e86041900a.html', '9c2589e36b922ad1.html', '6dfc167b60dc7bd9.html', 'e4afbccf0f154b1f.html', 'b256e29094239553.html', '4c761eabbc0d03da.html', '205162d27c3fb07e.html', 'f44d760d71bc2ce5.html', '32c74826ce45bd2d.html', '199dd429fdcf76b8.html', '6826cca517db957c.html', '82dee07f1995769c.html', '12ac213ffc329561.html', 'fa5cc99f9075aff3.html', '33928483dd21f90b.html', '2315417d4cf46a50.html', '01bd31cf3814dee3.html', '2bc3ec6e761963c0.html', '935bacc8d19a4daa.html', 'b26478cdee070f44.html', '01aa3fd02a66fc1d.html', '5a817718e8ed43ed.html', '395cd5b5dea59a64.html', '22217864173bbc39.html', '54a1e1f8b0f9110e.html', '9b11f1c9d2d3afeb.html', 'eeb10968747ffb0f.html', '1a4ecdbb24234d20.html', 'bb6b3b392d05bcc4.html', '644853a97d3714fb.html', '355ce4859097ca97.html', '83cdc54124839f23.html', '81787fb0dcaa3bec.html', 'c5f6aa5216291758.html', '9042480af958a610.html', '7bac633eccfcbbc9.html', 'b93f22984a9fc853.html', '728edec10a328c25.html', '965282a78a7434cf.html', '240c3e429d07df45.html', 'db4efc1d24358d0e.html', '5ad1f895aff1a7bd.html', '5bb5a778d76cfd22.html', '6cf5d1477b5a81f1.html', '3718a516169560a5.html', '8fccd5560141cd7c.html', 'bfe7f3c0e275513a.html', '852130dbfe1c50d1.html', 'e79cb285f5cc1c49.html', '5c523efb49ca831b.html', '35bd3f0fd5087920.html', '49f85c468f4849f5.html', '28987b664990906f.html', 'fb8aa7b9d78ddeab.html', 'dba55d0d1bdc020f.html', 'f3b15a08db5ab069.html', '6aba0666a776f3f6.html', 'bb962f7a72a72da0.html', 'e17adfe80d491d02.html', 'd829db07597e130b.html', '8179a173e187783a.html', '001b92395ed0fb62.html', '3e78cc0899321cdb.html', '85555e69b9e350d4.html', '3f1ae83d94e448cb.html', '2678afc382ce97f9.html', '0aa9e712a9ff1946.html', '86b8f37dffd9511a.html', '4e9cde400f988ef6.html', '06f4f89b2121d668.html', '68491fc3249b46ec.html', 'ef7046b5961f249e.html', '014ea972a4aa9812.html', 'db7e347ad42e58fb.html', 'd96f32ff456409f4.html', '9812a60323a1d008.html', 'e5c2794569941270.html', '21e8263b7814e726.html', '6bab4f69be84db89.html', '704e3f46465a1378.html', '66e03c3d7c9e4a92.html', 'fd04b8a2e7ca3955.html', '4e8cd8d5ee4cf995.html', 'b5243491dfbf94fa.html', '926dd8115cf6cecf.html', '8dba42410523b37c.html', '55b74e789c90b5df.html', 'c08a876a9f2bf7ce.html', '4c45b7305bbb8770.html', 'b232f35c3552127f.html', '2a617973475d382b.html', 'deef568e04822e3a.html', '1d20219365eb80b5.html', '6d2b72f9307b1295.html', '555cd198fec22988.html', '39e8d82af42d9dfa.html', '85e423202bb2ca63.html', '084a4490443dd8df.html', 'afb9bc6c81b23e4d.html', 'e71edc49797c7ce2.html', 'bd2aa94d2bde8479.html', '81505152254a98f8.html', 'e631e2689668e477.html', '4a6182466d497e65.html', 'b1f538fc9205b033.html', '4b13ffbd35f56cf5.html', '837c3926ee0400a4.html', 'd9ea3f36eb967f34.html', '0fddf3bca65927ca.html', '63baabd34163019f.html', 'b4dcb6e7c44cc1a5.html', '9127e183e6b2e719.html', '2d592e035bc11c24.html', '14792fa5b0b9b943.html', 'b4afc31f74068d11.html', '34ba2c8c3260ea5c.html', 'ad12f415dc3e5e8b.html', '11baba484db23433.html', '7f255f64aa64f769.html', '43b5749675ce235b.html', 'f5a9e63e0caea736.html', '2a0e76198b536230.html', 'f4fbbee62edb5453.html', 'a16b4cadcb1a1470.html', '3e0a3ff1df6a7f70.html', 'e1566aff40a2cbec.html', '802ccd3e74cb1574.html', 'a74cbd9c94a1536e.html', '22ec5abff932581e.html', 'c2fac811855f7809.html', '728270bb6c2f93d7.html', '47d58ebb9c6574fe.html', '6af98b39ccaaf1b0.html', 'df1696c67b2bb790.html', '8c6d83f343b2141e.html', 'c1753c9fbddd007f.html', 'a55b256d5a592bd3.html', 'ea8ca858cb88cf60.html', 'fefb9642ac28b85e.html', 'b8fbdb63b950ccf1.html', '5ce16ea2c3688eb1.html', 'a6a981439620dd9a.html', 'abab27113a3f8385.html', '56b7c53c88d358bd.html', '0a3e1fcd0264cf9a.html', '471399604a7d32d8.html', 'c7dbf3cbad217ed5.html', 'f11fd8210e88ee93.html', '5b07cd3be54a039f.html', 'f9afb21b4a0dca74.html', '6409287a2d177f04.html', 'e860b53ef6de4554.html', 'a559b6630c13783d.html', '08e0e31d79ab88a6.html', 'ba2d2f258d7ec7cc.html', 'f9453f6867beb01e.html', 'e8d9543fc8254798.html', '223edfed33bd3840.html', '4e7a9224c28a6822.html', 'e9af75bf5684dbe1.html', '365fa2410e58118a.html', '6b040447f4ed4117.html', '818c448500b71a0b.html', 'ca9ab4aae5478b98.html', 'f0b58acd16080cd1.html', 'e3dab82bce48571c.html', '4e0cfc0236bc63e1.html', '651d943f3edb6de4.html', '89cf067a914ba21c.html', '84d3a4a1b825030d.html', '6eecb3d1932cd55e.html', '56a3ff8f44685ab9.html', 'e3dace0a6d3d630c.html', '7b62436d86347e82.html', '2257e2b9d2cb3022.html', '8c0b118e9d7e9298.html', '72435f49f9f550ef.html', 'ec4ed549901cd8d9.html', 'faec51647e646a88.html', '117fdac717d768c9.html', 'b04fcd896a54cac4.html', '1a2b4aa11ac60426.html', 'c6b0593e41e56f1e.html', '92145f1578ded3f9.html', '23d9c7613df2edc9.html', 'ccc7c8850887a44a.html', '3d9ff952a5af1bc6.html', '570a5030209d8f35.html', '5c81c5fa9891e57a.html', '4e9926d6c5f7f1a1.html', 'cf7c46569a8c0c5e.html', 'ec81cd801ad999d9.html', '936c57ed28e64b6e.html', '6e333b27d92cb37e.html', 'f96b5907888ed2fd.html', '7f9db8a7f6fe0207.html', 'af1781203b23ebfa.html', '57546bb73b988d24.html', '609220830e5a3eaf.html', 'aad1220f512e83f4.html', 'b8d3495f274306c8.html', 'a452bf259add3dc2.html', 'e04e97593ceaf03d.html', '10cc46526006c085.html', 'fde06db7e180725a.html', '24a9f970ace56f01.html', 'e066775de58ede0f.html', 'e6324bb08b77cd4e.html', '7aa280ae4dd85806.html', '9d30ea1776ad783d.html', '318963db09e2f4a7.html', '59d87281c11dcbbc.html', '372243d1f5fa4568.html', 'cd242565218ecf56.html', '6569b8fbf4ab530e.html', '1858c5c64909e2b0.html', 'd186fd003c5d377e.html', 'fc4bef82f5ea2f9a.html', '4bcebc2d155d3a9f.html', 'a5ff44c4969b520a.html', '3ea40b802e91c181.html', '3a80f65a682f83cd.html', 'b5b3bc903e9707ac.html', '71a7e77480279ebf.html', '4d42681cf9585bb7.html', 'ec0b6107d49a9e0b.html', 'f39bcb7aa9336dd9.html', '8e9a83af86f183d5.html', 'ab4b358ccf594831.html', '6529272a2a3f4c1c.html', 'eac5bb5d1dce95b6.html', 'd9dc95fa883c45bd.html', 'b3b2c39a09777cf3.html', '18eba1da4742b7cc.html', 'e39efeb75bc873c5.html', '5fd3080bbb88502c.html', '1636faa0308fd08f.html', '2b937acb6b86aa7f.html', '16e62c7dc8d15731.html', '833fde302017d4d8.html', 'c7bc464b7dc4ed24.html', '40616467e87167ce.html', 'd5776f2268d05a21.html', '5f700bf168c15336.html', '511353d381dde347.html', '7ec1265b4d10153d.html', '8aafdc4c7c7cc084.html', '28d3791636a50799.html', '0179ea131f141400.html', '43c1221676bfdb91.html', 'ac94ef7b1f624c7e.html', '1cfe22aa6cb9721d.html', '0ee1ff95e8bcd7ef.html', 'f8da4a8df0df73dc.html', '813e38e1260bfdfe.html', 'c8defececef0039e.html', '0e5ad0d20c2e40c9.html', '773e146cc501c364.html', 'eaba59290c7be579.html', 'c02d510f93417915.html', '257c161b1dc55662.html', 'e720b932f93ebcbd.html', '4a72844a068c489e.html', '94ca2e4102d732a9.html', 'bb20c534a997730f.html', '0b9ea2fd6760e93f.html', '2ac7029c835f1d14.html', 'ab0dff81397ef1d4.html']\n"
          ]
        }
      ]
    },
    {
      "cell_type": "code",
      "source": [
        "from IPython.core.display import display, HTML\n",
        "\n",
        "# Check if there are any HTML files loaded\n",
        "if len(html_contents) > 0:\n",
        "    # Render the first job posting (index 0)\n",
        "    print(\"Rendering the HTML content of the first job posting:\")\n",
        "    display(HTML(html_contents[0]))\n",
        "else:\n",
        "    print(\"No HTML content available to display.\")\n"
      ],
      "metadata": {
        "colab": {
          "base_uri": "https://localhost:8080/",
          "height": 514
        },
        "id": "MXgUQHN9pY6N",
        "outputId": "bec168e0-ce3e-4aec-edc1-5c2bf12cd7c0"
      },
      "execution_count": 27,
      "outputs": [
        {
          "output_type": "stream",
          "name": "stdout",
          "text": [
            "Rendering the HTML content of the first job posting:\n"
          ]
        },
        {
          "output_type": "display_data",
          "data": {
            "text/plain": [
              "<IPython.core.display.HTML object>"
            ],
            "text/html": [
              "<html><head><title>Internships, Research- Summer 2020 - United States</title></head>\n",
              "<body><h2>Internships, Research- Summer 2020 - United States</h2>\n",
              "<h2 class=\"jobSectionHeader\"><b>Overview\n",
              "</b></h2><div><div><div><div><b>Company &amp; Program Overview:</b></div><div>\n",
              "Viacom has a clear vision: to be the premier destination where a diverse mix of hardworking people want to come, to stay and do their best work! We pride ourselves on bringing the greatest entertainment to our global audiences, and we know our company runs on the dedication of our passionate and creative employees and interns. Through television, film, digital content, live events, merchandise, studio production and more, Viacom connects with billions of people in nearly every country in the world. At Viacom, interns will have the opportunity to start and develop their professional careers at the home of iconic brands like BET, Comedy Central, MTV, Nickelodeon, Paramount and others!</div><div></div><br/>\n",
              "<div>\n",
              "In the Viacom Internship Program, interns will be working in a vibrant and inclusive environment alongside employees from diverse backgrounds. Through Campus to Career’s in-depth offerings, interns gain exposure across our business while making significant connections for their future and accessing exciting career opportunities. In addition to hands-on experience our programs include networking, mentorship, resume workshops, speaker sessions, career development, movie screenings, ticket raffles, visibility to top industry executives, and much more.</div><div></div><br/>\n",
              "<ul><li><b>Please note: </b>these departments primarily hire undergrads, though some departments hire Master's students. If you're a Master's student interested in research, please check out our Data Strategy/Data Science application</li></ul><div></div><br/>\n",
              "<div><b>\n",
              "Internship Overview:</b></div><div><b>\n",
              "Research </b>analyzes and disseminates TV ratings, digital/social as well as consumer insights (information about consumer trends, attitudes and behaviors) to multiple teams throughout the company, including Programming, Production &amp; Development, Marketing and Press departments. These teams use focus groups, surveys and other tools to provide qualitative and quantitative support in order to develop an understanding of each network's target audience.<br/>\n",
              "</div><div></div><div>Areas of research include, but are not limited to:</div><ul><li>Consumer Insights</li><li>Digital Analytics</li><li>Programming</li><li>Multiplatform Analytics</li><li>Strategic Insights</li></ul><div>\n",
              "Please complete the internship application by clicking \"Apply Here\" and a Campus to Career recruiter will contact you directly should we have an appropriate internship based on your areas of interest and skills.</div></div></div></div></body>\n",
              "</html>"
            ]
          },
          "metadata": {}
        }
      ]
    },
    {
      "cell_type": "markdown",
      "metadata": {
        "id": "0aa3tIYrN1N_"
      },
      "source": [
        "We can subdivide `html_contents[0]` into 2 conceptually-different parts:\n",
        "\n",
        ".. An initial job summary.\n",
        ".. A list of bulleted skills required to get the job.\n",
        "\n",
        "Is the next job posting structured in a similar manner? Lets find out, by rendering `html_contents[1]`.\n",
        "\n",
        "**Listing 17. 5. Rendering the HTML of the second job-posting**"
      ]
    },
    {
      "cell_type": "code",
      "source": [
        "from IPython.core.display import display, HTML\n",
        "\n",
        "# Define FIXME for rendering the second job posting\n",
        "if len(html_contents) > 1:\n",
        "    FIXME = HTML(html_contents[1])  # Assign the second HTML content to FIXME\n",
        "    print(\"Rendering the HTML content of the second job posting:\")\n",
        "    display(FIXME)\n",
        "else:\n",
        "    print(\"The second job posting is not available. Ensure you have loaded at least two HTML files.\")\n"
      ],
      "metadata": {
        "colab": {
          "base_uri": "https://localhost:8080/",
          "height": 669
        },
        "id": "9Lkg_3KMq0gj",
        "outputId": "6d81ca04-bc0c-4ad5-9660-1b1a4bed4b8b"
      },
      "execution_count": 29,
      "outputs": [
        {
          "output_type": "stream",
          "name": "stdout",
          "text": [
            "Rendering the HTML content of the second job posting:\n"
          ]
        },
        {
          "output_type": "display_data",
          "data": {
            "text/plain": [
              "<IPython.core.display.HTML object>"
            ],
            "text/html": [
              "<html><head><title>Research Scientist, Machine Learning and Intelligence - Mountain View, CA</title></head>\n",
              "<body><h2>Research Scientist, Machine Learning and Intelligence - Mountain View, CA</h2>\n",
              "Note: By applying to this position your application is automatically submitted to the following locations: <b>Seattle, WA, USA; New York, NY, USA; Mountain View, CA, USA; Pittsburgh, PA, USA</b><p>\n",
              "Minimum qualifications:</p><ul><li>PhD in Computer Science, related technical field or equivalent practical experience</li><li>Programming experience in one or more of the following: C, C++ and/or Python</li><li>Experience in Natural Language Understanding, Computer Vision, Machine Learning, Algorithmic Foundations of Optimization, Data Mining or Machine Intelligence (Artificial Intelligence)</li><li>Contribution to research communities and/or efforts, including publishing papers at conferences such as NeurIPS, ICML, ACL, CVPR, etc</li></ul><br/>\n",
              "<p>\n",
              "Preferred qualifications:</p><ul><li>Relevant work experience, including experience working within the industry or as a researcher in a lab</li><li>Ability to design and execute on research agenda</li><li>Strong publication record</li></ul><div><h2 class=\"jobSectionHeader\"><b>\n",
              "About the job</b></h2><p>\n",
              "We do research differently here at Google. Our team of Research Scientists aren't cloistered in a secret lab but are embedded throughout the engineering organization, allowing them to setup large-scale tests and deploy promising ideas quickly and broadly. Ideas may come from internal projects as well as from collaborations with research programs at partner universities and technical institutes all over the world. From creating experiments and prototyping implementations to designing new architectures, Research Scientists work on real-world problems including artificial intelligence, data mining, natural language processing, hardware and software performance analysis, improving compilers for mobile platforms, as well as core search and much more. But you stay connected to your research roots as an active contributor to the wider research community by partnering with universities and publishing papers.</p>\n",
              "<p>Research in machine intelligence has already impacted user-facing services across Google including Search, Maps and Google Now. Google Research and Machine Intelligence teams are actively pursuing the next generation of intelligent systems for application to even more Google products. To achieve this, we’re working on projects that utilize the latest techniques in Machine Learning (including Deep Learning approaches like Google AI) and Natural Language Understanding.\n",
              "</p>\n",
              "<p>We’ve already been joined by some of the best minds, and we’re looking for talented Research Scientists that have applied experience in the fields of Machine Learning, Natural Language Processing and Machine Intelligence to join our team.</p><p>\n",
              "There is always more information out there, and Research and Machine Intelligence teams have a never-ending quest to find it and make it accessible. We're constantly refining our signature search engine to provide better results, and developing offerings like Google Instant, Google Voice Search and Google Image Search to make it faster and more engaging. We're providing users around the world with great search results every day, but at Google, great just isn't good enough. We're just getting started.</p></div><div><h2 class=\"jobSectionHeader\"><b>\n",
              "Responsibilities</b></h2><ul>\n",
              "<li>Participate in cutting edge research in machine intelligence and machine learning applications</li><li>Develop solutions for real world, large scale problems</li></ul></div>At Google, we don’t just accept difference—we celebrate it, we support it, and we thrive on it for the benefit of our employees, our products and our community. Google is proud to be an equal opportunity workplace and is an affirmative action employer. We are committed to equal employment opportunity regardless of race, color, ancestry, religion, sex, national origin, sexual orientation, age, citizenship, marital status, disability, gender identity or Veteran status. We also consider qualified applicants regardless of criminal histories, consistent with legal requirements. See also Google's EEO Policy and EEO is the Law. If you have a disability or special need that requires accommodation, please let us know by completing this form.</body>\n",
              "</html>"
            ]
          },
          "metadata": {}
        }
      ]
    },
    {
      "cell_type": "code",
      "execution_count": 30,
      "metadata": {
        "colab": {
          "base_uri": "https://localhost:8080/",
          "height": 651
        },
        "id": "5WOHOn3IN1OA",
        "outputId": "01911194-07f0-43a0-9e83-f6ab98217c94"
      },
      "outputs": [
        {
          "output_type": "display_data",
          "data": {
            "text/plain": [
              "<IPython.core.display.HTML object>"
            ],
            "text/html": [
              "<html><head><title>Research Scientist, Machine Learning and Intelligence - Mountain View, CA</title></head>\n",
              "<body><h2>Research Scientist, Machine Learning and Intelligence - Mountain View, CA</h2>\n",
              "Note: By applying to this position your application is automatically submitted to the following locations: <b>Seattle, WA, USA; New York, NY, USA; Mountain View, CA, USA; Pittsburgh, PA, USA</b><p>\n",
              "Minimum qualifications:</p><ul><li>PhD in Computer Science, related technical field or equivalent practical experience</li><li>Programming experience in one or more of the following: C, C++ and/or Python</li><li>Experience in Natural Language Understanding, Computer Vision, Machine Learning, Algorithmic Foundations of Optimization, Data Mining or Machine Intelligence (Artificial Intelligence)</li><li>Contribution to research communities and/or efforts, including publishing papers at conferences such as NeurIPS, ICML, ACL, CVPR, etc</li></ul><br/>\n",
              "<p>\n",
              "Preferred qualifications:</p><ul><li>Relevant work experience, including experience working within the industry or as a researcher in a lab</li><li>Ability to design and execute on research agenda</li><li>Strong publication record</li></ul><div><h2 class=\"jobSectionHeader\"><b>\n",
              "About the job</b></h2><p>\n",
              "We do research differently here at Google. Our team of Research Scientists aren't cloistered in a secret lab but are embedded throughout the engineering organization, allowing them to setup large-scale tests and deploy promising ideas quickly and broadly. Ideas may come from internal projects as well as from collaborations with research programs at partner universities and technical institutes all over the world. From creating experiments and prototyping implementations to designing new architectures, Research Scientists work on real-world problems including artificial intelligence, data mining, natural language processing, hardware and software performance analysis, improving compilers for mobile platforms, as well as core search and much more. But you stay connected to your research roots as an active contributor to the wider research community by partnering with universities and publishing papers.</p>\n",
              "<p>Research in machine intelligence has already impacted user-facing services across Google including Search, Maps and Google Now. Google Research and Machine Intelligence teams are actively pursuing the next generation of intelligent systems for application to even more Google products. To achieve this, we’re working on projects that utilize the latest techniques in Machine Learning (including Deep Learning approaches like Google AI) and Natural Language Understanding.\n",
              "</p>\n",
              "<p>We’ve already been joined by some of the best minds, and we’re looking for talented Research Scientists that have applied experience in the fields of Machine Learning, Natural Language Processing and Machine Intelligence to join our team.</p><p>\n",
              "There is always more information out there, and Research and Machine Intelligence teams have a never-ending quest to find it and make it accessible. We're constantly refining our signature search engine to provide better results, and developing offerings like Google Instant, Google Voice Search and Google Image Search to make it faster and more engaging. We're providing users around the world with great search results every day, but at Google, great just isn't good enough. We're just getting started.</p></div><div><h2 class=\"jobSectionHeader\"><b>\n",
              "Responsibilities</b></h2><ul>\n",
              "<li>Participate in cutting edge research in machine intelligence and machine learning applications</li><li>Develop solutions for real world, large scale problems</li></ul></div>At Google, we don’t just accept difference—we celebrate it, we support it, and we thrive on it for the benefit of our employees, our products and our community. Google is proud to be an equal opportunity workplace and is an affirmative action employer. We are committed to equal employment opportunity regardless of race, color, ancestry, religion, sex, national origin, sexual orientation, age, citizenship, marital status, disability, gender identity or Veteran status. We also consider qualified applicants regardless of criminal histories, consistent with legal requirements. See also Google's EEO Policy and EEO is the Law. If you have a disability or special need that requires accommodation, please let us know by completing this form.</body>\n",
              "</html>"
            ]
          },
          "metadata": {}
        }
      ],
      "source": [
        "display(FIXME)"
      ]
    },
    {
      "cell_type": "markdown",
      "metadata": {
        "id": "RCLjHGZiN1OA"
      },
      "source": [
        "The bullet-points in `html_contents[0]` and `html_contents[1]` serve a singular purpose. They offer us brief, sentence-length descriptions of unique skills required for each position.\n",
        "\n",
        "Do these types of bulleted skill descriptions appear in other job posts? We’ll now find out. First, we’ll extract the bullets from each of our parsed html files.\n",
        "\n",
        "**Listing 17. 6. Extracting bullets from the HTML**"
      ]
    },
    {
      "cell_type": "code",
      "execution_count": 31,
      "metadata": {
        "id": "b0L02pwFN1OB",
        "colab": {
          "base_uri": "https://localhost:8080/"
        },
        "outputId": "96d5f4a5-a731-437c-881f-6301b96f100f"
      },
      "outputs": [
        {
          "output_type": "execute_result",
          "data": {
            "text/plain": [
              "0"
            ]
          },
          "metadata": {},
          "execution_count": 31
        }
      ],
      "source": [
        "df_jobs['Bullets'] = [[bullet.text.strip()\n",
        "                      for bullet in soup.find_all('li')]\n",
        "                      for soup in soup_objects]\n",
        "\n",
        "df_jobs.shape[0]"
      ]
    },
    {
      "cell_type": "markdown",
      "metadata": {
        "id": "CdvL8HD2N1OB"
      },
      "source": [
        "What percentage of job postings actually contain bulleted text? We need to find out! If that percentage is too low, then further bullet-analysis is not worth our time.\n",
        "\n",
        "**Measuring the percent of bulleted postings**"
      ]
    },
    {
      "cell_type": "code",
      "execution_count": 33,
      "metadata": {
        "id": "DNpTMtfxN1OB",
        "colab": {
          "base_uri": "https://localhost:8080/"
        },
        "outputId": "ac5e98c8-b205-4422-8d48-5acc3733f295"
      },
      "outputs": [
        {
          "output_type": "stream",
          "name": "stdout",
          "text": [
            "66.67% of the postings contain bullets.\n"
          ]
        }
      ],
      "source": [
        "from bs4 import BeautifulSoup\n",
        "import pandas as pd\n",
        "\n",
        "# Step 1: Example setup for HTML parsing\n",
        "# Replace this with your actual parsed HTML (soup_objects)\n",
        "soup_objects = [\n",
        "    BeautifulSoup(\"<html><body><ul><li>Skill 1</li><li>Skill 2</li></ul></body></html>\", \"html.parser\"),\n",
        "    BeautifulSoup(\"<html><body><ul><li>Skill A</li><li>Skill B</li></ul></body></html>\", \"html.parser\"),\n",
        "    BeautifulSoup(\"<html><body>No bullets here</body></html>\", \"html.parser\")\n",
        "]\n",
        "\n",
        "# Step 2: Extract bulleted lists and store them in a DataFrame\n",
        "df_jobs = pd.DataFrame({\n",
        "    'Bullets': [\n",
        "        [bullet.text.strip() for bullet in soup.find_all('li')]  # Extract <li> tags\n",
        "        for soup in soup_objects\n",
        "    ]\n",
        "})\n",
        "\n",
        "# Step 3: Count the number of job postings with bullets\n",
        "if not df_jobs.empty:  # Check if DataFrame is not empty\n",
        "    bulleted_post_count = sum(1 for bullet_list in df_jobs['Bullets'] if bullet_list)  # Count non-empty bullet lists\n",
        "    total_posts = df_jobs.shape[0]  # Total number of postings\n",
        "\n",
        "    # Step 4: Calculate and print the percentage of postings with bullets\n",
        "    percent_bulleted = (bulleted_post_count / total_posts) * 100\n",
        "    print(f\"{percent_bulleted:.2f}% of the postings contain bullets.\")\n",
        "else:\n",
        "    print(\"The DataFrame is empty. No job postings to analyze.\")\n"
      ]
    },
    {
      "cell_type": "markdown",
      "metadata": {
        "id": "xiDyK8vjN1OC"
      },
      "source": [
        "90% of the job postings contain bullets. Do all (or most) of these bullets focus on skills? We better gage the contents of the bullet-points by printing the top-ranked words within their texts. Below, we'll we rank the words using summed TFDIF values.\n",
        "\n",
        "**Examining the top-ranked words in the HTML bullet**"
      ]
    },
    {
      "cell_type": "code",
      "execution_count": 35,
      "metadata": {
        "id": "e75keDp4N1OC",
        "colab": {
          "base_uri": "https://localhost:8080/"
        },
        "outputId": "f3a788c2-e99e-4994-f1c1-41fe7658c8e8"
      },
      "outputs": [
        {
          "output_type": "stream",
          "name": "stdout",
          "text": [
            "Words  Summed TFIDF\n",
            "skill           4.0\n"
          ]
        }
      ],
      "source": [
        "import pandas as pd\n",
        "from sklearn.feature_extraction.text import TfidfVectorizer\n",
        "\n",
        "# Define a function to rank words using TF-IDF\n",
        "def rank_words(text_list):\n",
        "    # Initialize TfidfVectorizer with stop words in English\n",
        "    vectorizer = TfidfVectorizer(stop_words='english')\n",
        "\n",
        "    # Transform the input text list into a TF-IDF matrix\n",
        "    tfidf_matrix = vectorizer.fit_transform(text_list).toarray()\n",
        "\n",
        "    # Create a DataFrame with words and their summed TF-IDF scores\n",
        "    df = pd.DataFrame({\n",
        "        'Words': vectorizer.get_feature_names_out(),\n",
        "        'Summed TFIDF': tfidf_matrix.sum(axis=0)\n",
        "    })\n",
        "\n",
        "    # Sort the DataFrame by TF-IDF scores in descending order\n",
        "    sorted_df = df.sort_values('Summed TFIDF', ascending=False)\n",
        "    return sorted_df\n",
        "\n",
        "# Combine all bullets into a single list\n",
        "all_bullets = []\n",
        "for bullet_list in df_jobs['Bullets']:\n",
        "    all_bullets.extend(bullet_list)\n",
        "\n",
        "# Rank words using the rank_words function\n",
        "sorted_df = rank_words(all_bullets)\n",
        "\n",
        "# Display the top 5 ranked words\n",
        "print(sorted_df.head(5).to_string(index=False))\n"
      ]
    },
    {
      "cell_type": "code",
      "source": [
        "import matplotlib.pyplot as plt\n",
        "\n",
        "top_words = sorted_df.head(10)\n",
        "plt.barh(top_words['Words'], top_words['Summed TFIDF'], color='skyblue')\n",
        "plt.xlabel('Summed TFIDF')\n",
        "plt.title('Top 10 Ranked Words')\n",
        "plt.gca().invert_yaxis()\n",
        "plt.show()\n"
      ],
      "metadata": {
        "colab": {
          "base_uri": "https://localhost:8080/",
          "height": 472
        },
        "id": "wVia6Nbyr6Qr",
        "outputId": "c6d97e4d-b9d8-4775-90cf-928c0e2bd883"
      },
      "execution_count": 36,
      "outputs": [
        {
          "output_type": "display_data",
          "data": {
            "text/plain": [
              "<Figure size 640x480 with 1 Axes>"
            ],
            "image/png": "[encoded data removed]"
          },
          "metadata": {}
        }
      ]
    },
    {
      "cell_type": "markdown",
      "metadata": {
        "id": "xHfO1lUWN1OC"
      },
      "source": [
        "Terms such as _skills_ and _ability_ appear among the top 5 bulleted words. How do these bulleted words compare to the remaining words in each job posting? Lets find out.\n",
        "\n",
        "**Examining the top-ranked words in the HTML bodies**"
      ]
    },
    {
      "cell_type": "code",
      "execution_count": 37,
      "metadata": {
        "id": "PZg4Gn01N1OC",
        "colab": {
          "base_uri": "https://localhost:8080/"
        },
        "outputId": "df418e9f-67cb-4e8f-a7f7-07d132478c35"
      },
      "outputs": [
        {
          "output_type": "stream",
          "name": "stdout",
          "text": [
            "  Words  Summed TFIDF\n",
            "bullets           1.0\n"
          ]
        }
      ],
      "source": [
        "non_bullets = []\n",
        "for soup in soup_objects:\n",
        "    body = soup.body\n",
        "    for tag in body.find_all('li'):\n",
        "        tag.decompose()\n",
        "\n",
        "    non_bullets.append(body.text)\n",
        "\n",
        "sorted_df = rank_words(non_bullets)\n",
        "print(sorted_df[:5].to_string(index=False))"
      ]
    },
    {
      "cell_type": "markdown",
      "metadata": {
        "id": "nCAEvU1nN1OC"
      },
      "source": [
        "The words _skills_ and _ability_ are no longer present in the ranked output.  Thus, the non-bulleted text appears to be less skill-oriented than the bullet contents.\n",
        "\n",
        "Strangely, the words _scientist_ and _science_ is missing from the list. Perhaps some posts pertain to data-driven jobs which aren't directly data science jobs? Lets actively explore this possibility.\n",
        "\n",
        "**Checking titles for references to data science positions**"
      ]
    },
    {
      "cell_type": "code",
      "source": [
        "from bs4 import BeautifulSoup\n",
        "import pandas as pd\n",
        "\n",
        "# Sample HTML content for demonstration\n",
        "soup_objects = [\n",
        "    BeautifulSoup('<html><head><title>Job 1</title></head><body><h1>Data Scientist</h1></body></html>', 'html.parser'),\n",
        "    BeautifulSoup('<html><head><title>Job 2</title></head><body><h1>Machine Learning Engineer</h1></body></html>', 'html.parser'),\n",
        "    BeautifulSoup('<html><head><title>Job 3</title></head><body><h1>AI Researcher</h1></body></html>', 'html.parser')\n",
        "]\n",
        "\n",
        "# Step 1: Extract titles from each HTML object\n",
        "job_titles = []\n",
        "for soup in soup_objects:\n",
        "    # Find the element that contains the job title (e.g., <h1>)\n",
        "    title_tag = soup.find('h1')  # Change 'h1' to the correct tag for your dataset\n",
        "    if title_tag:\n",
        "        job_titles.append(title_tag.text.strip())  # Extract and clean the text\n",
        "    else:\n",
        "        job_titles.append(\"Unknown\")  # Default value if no title is found\n",
        "\n",
        "# Step 2: Create a DataFrame and add the Title column\n",
        "df_jobs = pd.DataFrame({\n",
        "    'Title': job_titles\n",
        "})\n",
        "\n",
        "print(df_jobs)\n"
      ],
      "metadata": {
        "colab": {
          "base_uri": "https://localhost:8080/"
        },
        "id": "hoRj8uvJs6_o",
        "outputId": "f5f9d74e-42b8-4c18-c6f9-2aa1efda9744"
      },
      "execution_count": 40,
      "outputs": [
        {
          "output_type": "stream",
          "name": "stdout",
          "text": [
            "                       Title\n",
            "0             Data Scientist\n",
            "1  Machine Learning Engineer\n",
            "2              AI Researcher\n"
          ]
        }
      ]
    },
    {
      "cell_type": "code",
      "execution_count": 41,
      "metadata": {
        "id": "4gCB1x_BN1OD",
        "colab": {
          "base_uri": "https://localhost:8080/"
        },
        "outputId": "75ace7c8-9c5a-4711-e1b2-da396b36b697"
      },
      "outputs": [
        {
          "output_type": "stream",
          "name": "stdout",
          "text": [
            "66.67% of the job posting titles do not mention a 'data science position'. Below is a sample of such titles:\n",
            "\n",
            "Machine Learning Engineer\n",
            "AI Researcher\n"
          ]
        },
        {
          "output_type": "stream",
          "name": "stderr",
          "text": [
            "<ipython-input-41-1e0caa255ead>:9: UserWarning: This pattern is interpreted as a regular expression, and has match groups. To actually get the groups, use str.extract.\n",
            "  df_non_ds_jobs = df_jobs[~df_jobs['Title'].str.contains(regex, case=False, na=False)]\n"
          ]
        }
      ],
      "source": [
        "import pandas as pd\n",
        "\n",
        "# Step 1: Check if `Title` column exists in the DataFrame\n",
        "if 'Title' in df_jobs.columns:\n",
        "    # Define the regex pattern to search for data science-related titles\n",
        "    regex = r'Data Scien(ce|tist)'\n",
        "\n",
        "    # Filter job postings that do not mention \"Data Science\" or \"Data Scientist\"\n",
        "    df_non_ds_jobs = df_jobs[~df_jobs['Title'].str.contains(regex, case=False, na=False)]\n",
        "\n",
        "    # Calculate the percentage of such postings\n",
        "    percent_non_ds = 100 * df_non_ds_jobs.shape[0] / df_jobs.shape[0]\n",
        "    print(f\"{percent_non_ds:.2f}% of the job posting titles do not mention a 'data science position'. Below is a sample of such titles:\\n\")\n",
        "\n",
        "    # Print the first 10 such titles\n",
        "    for title in df_non_ds_jobs['Title'][:10]:\n",
        "        print(title)\n",
        "else:\n",
        "    print(\"Error: The `df_jobs` DataFrame does not contain a `Title` column. Please ensure it is included.\")\n"
      ]
    },
    {
      "cell_type": "markdown",
      "metadata": {
        "id": "shBoABvtN1OD"
      },
      "source": [
        "Theirst posting on the list is for a _Patient Care Assistant_ or _PCA_. The erroneous posting contains skills that we both lack and also have no interest in obtaining.\n",
        "\n",
        "**Sampling bullets from a non-data science job**"
      ]
    },
    {
      "cell_type": "code",
      "execution_count": 43,
      "metadata": {
        "id": "AWNkU6NsN1OD",
        "colab": {
          "base_uri": "https://localhost:8080/"
        },
        "outputId": "0b22f4cc-5e68-4af0-d9bf-a9ac00ec7153"
      },
      "outputs": [
        {
          "output_type": "stream",
          "name": "stdout",
          "text": [
            "Bullets from the first non-data science job:\n",
            "1: TensorFlow\n",
            "2: Deep Learning\n",
            "3: Model Deployment\n"
          ]
        }
      ],
      "source": [
        "from bs4 import BeautifulSoup\n",
        "import pandas as pd\n",
        "\n",
        "# Example: Create df_jobs with Titles and Bullets\n",
        "df_jobs = pd.DataFrame({\n",
        "    'Title': [\n",
        "        \"Data Scientist\",\n",
        "        \"Machine Learning Engineer\",\n",
        "        \"Patient Care Assistant\"\n",
        "    ],\n",
        "    'Bullets': [\n",
        "        [\"Python\", \"Machine Learning\", \"Data Analysis\"],  # Data Scientist bullets\n",
        "        [\"TensorFlow\", \"Deep Learning\", \"Model Deployment\"],  # ML Engineer bullets\n",
        "        [\"Patient care\", \"Record keeping\", \"Teamwork\"]  # PCA bullets\n",
        "    ]\n",
        "})\n",
        "\n",
        "# Step 1: Filter non-data science jobs\n",
        "regex = r'Data Scien(?:ce|tist)'\n",
        "df_non_ds_jobs = df_jobs[~df_jobs['Title'].str.contains(regex, case=False, na=False)]\n",
        "\n",
        "# Step 2: Extract bullets from the first non-data science job\n",
        "if 'Bullets' in df_non_ds_jobs.columns:\n",
        "    if not df_non_ds_jobs.empty:  # Ensure there are non-data science jobs\n",
        "        bullets = df_non_ds_jobs['Bullets'].iloc[0]  # Get the first row's bullets\n",
        "        print(\"Bullets from the first non-data science job:\")\n",
        "        for i, bullet in enumerate(bullets[:5]):  # Print the first 5 bullets\n",
        "            print(f\"{i + 1}: {bullet.strip()}\")\n",
        "    else:\n",
        "        print(\"No non-data science jobs found.\")\n",
        "else:\n",
        "    print(\"Error: The `Bullets` column does not exist in `df_non_ds_jobs`.\")\n"
      ]
    },
    {
      "cell_type": "markdown",
      "metadata": {
        "id": "1FMGisjjN1OD"
      },
      "source": [
        "We need to leverage text similarity in order to filter out those jobs that do not align with our resume content.\n",
        "Lets proceed to filter the jobs by relevance.\n",
        "\n",
        "## Filtering Jobs by Relevance\n",
        "\n",
        "Our goal is to evaluate job relevance using text similarity. We'll want to compare the text within each posting to our resume and/or book table-of-contents. In preparation, lets now store our resume within a `resume` string.\n",
        "\n",
        "**Loading the resume**"
      ]
    },
    {
      "cell_type": "code",
      "source": [
        "from google.colab import files\n",
        "\n",
        "# Upload resume.txt\n",
        "uploaded = files.upload()  # This will prompt you to upload a file\n"
      ],
      "metadata": {
        "colab": {
          "base_uri": "https://localhost:8080/",
          "height": 73
        },
        "id": "o4yKZ8Attosj",
        "outputId": "4a29a48f-53a9-44b1-9e9b-39a367e6ae45"
      },
      "execution_count": 52,
      "outputs": [
        {
          "output_type": "display_data",
          "data": {
            "text/plain": [
              "<IPython.core.display.HTML object>"
            ],
            "text/html": [
              "\n",
              "     <input type=\"file\" id=\"files-4507e551-01d5-4410-83e0-731294b67a5e\" name=\"files[]\" multiple disabled\n",
              "        style=\"border:none\" />\n",
              "     <output id=\"result-4507e551-01d5-4410-83e0-731294b67a5e\">\n",
              "      Upload widget is only available when the cell has been executed in the\n",
              "      current browser session. Please rerun this cell to enable.\n",
              "      </output>\n",
              "      <script>// Copyright 2017 Google LLC\n",
              "//\n",
              "// Licensed under the Apache License, Version 2.0 (the \"License\");\n",
              "// you may not use this file except in compliance with the License.\n",
              "// You may obtain a copy of the License at\n",
              "//\n",
              "//      http://www.apache.org/licenses/LICENSE-2.0\n",
              "//\n",
              "// Unless required by applicable law or agreed to in writing, software\n",
              "// distributed under the License is distributed on an \"AS IS\" BASIS,\n",
              "// WITHOUT WARRANTIES OR CONDITIONS OF ANY KIND, either express or implied.\n",
              "// See the License for the specific language governing permissions and\n",
              "// limitations under the License.\n",
              "\n",
              "/**\n",
              " * @fileoverview Helpers for google.colab Python module.\n",
              " */\n",
              "(function(scope) {\n",
              "function span(text, styleAttributes = {}) {\n",
              "  const element = document.createElement('span');\n",
              "  element.textContent = text;\n",
              "  for (const key of Object.keys(styleAttributes)) {\n",
              "    element.style[key] = styleAttributes[key];\n",
              "  }\n",
              "  return element;\n",
              "}\n",
              "\n",
              "// Max number of bytes which will be uploaded at a time.\n",
              "const MAX_PAYLOAD_SIZE = 100 * 1024;\n",
              "\n",
              "function _uploadFiles(inputId, outputId) {\n",
              "  const steps = uploadFilesStep(inputId, outputId);\n",
              "  const outputElement = document.getElementById(outputId);\n",
              "  // Cache steps on the outputElement to make it available for the next call\n",
              "  // to uploadFilesContinue from Python.\n",
              "  outputElement.steps = steps;\n",
              "\n",
              "  return _uploadFilesContinue(outputId);\n",
              "}\n",
              "\n",
              "// This is roughly an async generator (not supported in the browser yet),\n",
              "// where there are multiple asynchronous steps and the Python side is going\n",
              "// to poll for completion of each step.\n",
              "// This uses a Promise to block the python side on completion of each step,\n",
              "// then passes the result of the previous step as the input to the next step.\n",
              "function _uploadFilesContinue(outputId) {\n",
              "  const outputElement = document.getElementById(outputId);\n",
              "  const steps = outputElement.steps;\n",
              "\n",
              "  const next = steps.next(outputElement.lastPromiseValue);\n",
              "  return Promise.resolve(next.value.promise).then((value) => {\n",
              "    // Cache the last promise value to make it available to the next\n",
              "    // step of the generator.\n",
              "    outputElement.lastPromiseValue = value;\n",
              "    return next.value.response;\n",
              "  });\n",
              "}\n",
              "\n",
              "/**\n",
              " * Generator function which is called between each async step of the upload\n",
              " * process.\n",
              " * @param {string} inputId Element ID of the input file picker element.\n",
              " * @param {string} outputId Element ID of the output display.\n",
              " * @return {!Iterable<!Object>} Iterable of next steps.\n",
              " */\n",
              "function* uploadFilesStep(inputId, outputId) {\n",
              "  const inputElement = document.getElementById(inputId);\n",
              "  inputElement.disabled = false;\n",
              "\n",
              "  const outputElement = document.getElementById(outputId);\n",
              "  outputElement.innerHTML = '';\n",
              "\n",
              "  const pickedPromise = new Promise((resolve) => {\n",
              "    inputElement.addEventListener('change', (e) => {\n",
              "      resolve(e.target.files);\n",
              "    });\n",
              "  });\n",
              "\n",
              "  const cancel = document.createElement('button');\n",
              "  inputElement.parentElement.appendChild(cancel);\n",
              "  cancel.textContent = 'Cancel upload';\n",
              "  const cancelPromise = new Promise((resolve) => {\n",
              "    cancel.onclick = () => {\n",
              "      resolve(null);\n",
              "    };\n",
              "  });\n",
              "\n",
              "  // Wait for the user to pick the files.\n",
              "  const files = yield {\n",
              "    promise: Promise.race([pickedPromise, cancelPromise]),\n",
              "    response: {\n",
              "      action: 'starting',\n",
              "    }\n",
              "  };\n",
              "\n",
              "  cancel.remove();\n",
              "\n",
              "  // Disable the input element since further picks are not allowed.\n",
              "  inputElement.disabled = true;\n",
              "\n",
              "  if (!files) {\n",
              "    return {\n",
              "      response: {\n",
              "        action: 'complete',\n",
              "      }\n",
              "    };\n",
              "  }\n",
              "\n",
              "  for (const file of files) {\n",
              "    const li = document.createElement('li');\n",
              "    li.append(span(file.name, {fontWeight: 'bold'}));\n",
              "    li.append(span(\n",
              "        `(${file.type || 'n/a'}) - ${file.size} bytes, ` +\n",
              "        `last modified: ${\n",
              "            file.lastModifiedDate ? file.lastModifiedDate.toLocaleDateString() :\n",
              "                                    'n/a'} - `));\n",
              "    const percent = span('0% done');\n",
              "    li.appendChild(percent);\n",
              "\n",
              "    outputElement.appendChild(li);\n",
              "\n",
              "    const fileDataPromise = new Promise((resolve) => {\n",
              "      const reader = new FileReader();\n",
              "      reader.onload = (e) => {\n",
              "        resolve(e.target.result);\n",
              "      };\n",
              "      reader.readAsArrayBuffer(file);\n",
              "    });\n",
              "    // Wait for the data to be ready.\n",
              "    let fileData = yield {\n",
              "      promise: fileDataPromise,\n",
              "      response: {\n",
              "        action: 'continue',\n",
              "      }\n",
              "    };\n",
              "\n",
              "    // Use a chunked sending to avoid message size limits. See b/62115660.\n",
              "    let position = 0;\n",
              "    do {\n",
              "      const length = Math.min(fileData.byteLength - position, MAX_PAYLOAD_SIZE);\n",
              "      const chunk = new Uint8Array(fileData, position, length);\n",
              "      position += length;\n",
              "\n",
              "      const base64 = btoa(String.fromCharCode.apply(null, chunk));\n",
              "      yield {\n",
              "        response: {\n",
              "          action: 'append',\n",
              "          file: file.name,\n",
              "          data: base64,\n",
              "        },\n",
              "      };\n",
              "\n",
              "      let percentDone = fileData.byteLength === 0 ?\n",
              "          100 :\n",
              "          Math.round((position / fileData.byteLength) * 100);\n",
              "      percent.textContent = `${percentDone}% done`;\n",
              "\n",
              "    } while (position < fileData.byteLength);\n",
              "  }\n",
              "\n",
              "  // All done.\n",
              "  yield {\n",
              "    response: {\n",
              "      action: 'complete',\n",
              "    }\n",
              "  };\n",
              "}\n",
              "\n",
              "scope.google = scope.google || {};\n",
              "scope.google.colab = scope.google.colab || {};\n",
              "scope.google.colab._files = {\n",
              "  _uploadFiles,\n",
              "  _uploadFilesContinue,\n",
              "};\n",
              "})(self);\n",
              "</script> "
            ]
          },
          "metadata": {}
        },
        {
          "output_type": "stream",
          "name": "stdout",
          "text": [
            "Saving resume.txt to resume.txt\n"
          ]
        }
      ]
    },
    {
      "cell_type": "code",
      "source": [
        "# Load and print the resume content\n",
        "resume = open('resume.txt', 'r').read()\n",
        "print(resume)\n"
      ],
      "metadata": {
        "colab": {
          "base_uri": "https://localhost:8080/"
        },
        "id": "8AHgLJSWuPm-",
        "outputId": "1c36d555-da49-4f77-bb2d-4c35e787ce7b"
      },
      "execution_count": 53,
      "outputs": [
        {
          "output_type": "stream",
          "name": "stdout",
          "text": [
            "Experience\n",
            "\n",
            "1. Developed probability simulations using NumPy.\n",
            "2. Assessed online ad-clicks for statistical significance using Permutation testing.\n",
            "3. Analyzed disease outbreaks using common clustering algorithms.\n",
            "\n",
            "Additional Skills\n",
            "\n",
            "1. Data visualization using Matplotlib.\n",
            "2. Statistical analysis using SciPy.\n",
            "3. Processing structured tables using Pandas.\n",
            "4. Executing K-Means clustering and DBSCAN clustering using Scikit-Learn.\n",
            "5. Extracting locations from text using GeonamesCache.\n",
            "6. Location analysis and visualization using GeonamesCache and Basemap.\n",
            "7. Dimensionality reduction with PCA and SVD, using Scikit-Learn.\n",
            "8. NLP analysis and text topic detection using Scikit-Learn.\n"
          ]
        }
      ]
    },
    {
      "cell_type": "markdown",
      "metadata": {
        "id": "dfZSFd4BN1OE"
      },
      "source": [
        "In this same manner, we can store the table of contents within a `table_of_contents` string.\n",
        "\n",
        "**Loading the table-of-content**"
      ]
    },
    {
      "cell_type": "code",
      "execution_count": 57,
      "metadata": {
        "id": "oUINwGSrN1OE",
        "colab": {
          "base_uri": "https://localhost:8080/",
          "height": 693
        },
        "outputId": "19986506-2a83-4f0b-ebc4-e1f6901d67b5"
      },
      "outputs": [
        {
          "output_type": "stream",
          "name": "stdout",
          "text": [
            "Upload the file (either 'desired_skills.txt' or a zip containing it).\n"
          ]
        },
        {
          "output_type": "display_data",
          "data": {
            "text/plain": [
              "<IPython.core.display.HTML object>"
            ],
            "text/html": [
              "\n",
              "     <input type=\"file\" id=\"files-ef088a7c-8dc6-4e43-96e4-5cf8e2c0cb28\" name=\"files[]\" multiple disabled\n",
              "        style=\"border:none\" />\n",
              "     <output id=\"result-ef088a7c-8dc6-4e43-96e4-5cf8e2c0cb28\">\n",
              "      Upload widget is only available when the cell has been executed in the\n",
              "      current browser session. Please rerun this cell to enable.\n",
              "      </output>\n",
              "      <script>// Copyright 2017 Google LLC\n",
              "//\n",
              "// Licensed under the Apache License, Version 2.0 (the \"License\");\n",
              "// you may not use this file except in compliance with the License.\n",
              "// You may obtain a copy of the License at\n",
              "//\n",
              "//      http://www.apache.org/licenses/LICENSE-2.0\n",
              "//\n",
              "// Unless required by applicable law or agreed to in writing, software\n",
              "// distributed under the License is distributed on an \"AS IS\" BASIS,\n",
              "// WITHOUT WARRANTIES OR CONDITIONS OF ANY KIND, either express or implied.\n",
              "// See the License for the specific language governing permissions and\n",
              "// limitations under the License.\n",
              "\n",
              "/**\n",
              " * @fileoverview Helpers for google.colab Python module.\n",
              " */\n",
              "(function(scope) {\n",
              "function span(text, styleAttributes = {}) {\n",
              "  const element = document.createElement('span');\n",
              "  element.textContent = text;\n",
              "  for (const key of Object.keys(styleAttributes)) {\n",
              "    element.style[key] = styleAttributes[key];\n",
              "  }\n",
              "  return element;\n",
              "}\n",
              "\n",
              "// Max number of bytes which will be uploaded at a time.\n",
              "const MAX_PAYLOAD_SIZE = 100 * 1024;\n",
              "\n",
              "function _uploadFiles(inputId, outputId) {\n",
              "  const steps = uploadFilesStep(inputId, outputId);\n",
              "  const outputElement = document.getElementById(outputId);\n",
              "  // Cache steps on the outputElement to make it available for the next call\n",
              "  // to uploadFilesContinue from Python.\n",
              "  outputElement.steps = steps;\n",
              "\n",
              "  return _uploadFilesContinue(outputId);\n",
              "}\n",
              "\n",
              "// This is roughly an async generator (not supported in the browser yet),\n",
              "// where there are multiple asynchronous steps and the Python side is going\n",
              "// to poll for completion of each step.\n",
              "// This uses a Promise to block the python side on completion of each step,\n",
              "// then passes the result of the previous step as the input to the next step.\n",
              "function _uploadFilesContinue(outputId) {\n",
              "  const outputElement = document.getElementById(outputId);\n",
              "  const steps = outputElement.steps;\n",
              "\n",
              "  const next = steps.next(outputElement.lastPromiseValue);\n",
              "  return Promise.resolve(next.value.promise).then((value) => {\n",
              "    // Cache the last promise value to make it available to the next\n",
              "    // step of the generator.\n",
              "    outputElement.lastPromiseValue = value;\n",
              "    return next.value.response;\n",
              "  });\n",
              "}\n",
              "\n",
              "/**\n",
              " * Generator function which is called between each async step of the upload\n",
              " * process.\n",
              " * @param {string} inputId Element ID of the input file picker element.\n",
              " * @param {string} outputId Element ID of the output display.\n",
              " * @return {!Iterable<!Object>} Iterable of next steps.\n",
              " */\n",
              "function* uploadFilesStep(inputId, outputId) {\n",
              "  const inputElement = document.getElementById(inputId);\n",
              "  inputElement.disabled = false;\n",
              "\n",
              "  const outputElement = document.getElementById(outputId);\n",
              "  outputElement.innerHTML = '';\n",
              "\n",
              "  const pickedPromise = new Promise((resolve) => {\n",
              "    inputElement.addEventListener('change', (e) => {\n",
              "      resolve(e.target.files);\n",
              "    });\n",
              "  });\n",
              "\n",
              "  const cancel = document.createElement('button');\n",
              "  inputElement.parentElement.appendChild(cancel);\n",
              "  cancel.textContent = 'Cancel upload';\n",
              "  const cancelPromise = new Promise((resolve) => {\n",
              "    cancel.onclick = () => {\n",
              "      resolve(null);\n",
              "    };\n",
              "  });\n",
              "\n",
              "  // Wait for the user to pick the files.\n",
              "  const files = yield {\n",
              "    promise: Promise.race([pickedPromise, cancelPromise]),\n",
              "    response: {\n",
              "      action: 'starting',\n",
              "    }\n",
              "  };\n",
              "\n",
              "  cancel.remove();\n",
              "\n",
              "  // Disable the input element since further picks are not allowed.\n",
              "  inputElement.disabled = true;\n",
              "\n",
              "  if (!files) {\n",
              "    return {\n",
              "      response: {\n",
              "        action: 'complete',\n",
              "      }\n",
              "    };\n",
              "  }\n",
              "\n",
              "  for (const file of files) {\n",
              "    const li = document.createElement('li');\n",
              "    li.append(span(file.name, {fontWeight: 'bold'}));\n",
              "    li.append(span(\n",
              "        `(${file.type || 'n/a'}) - ${file.size} bytes, ` +\n",
              "        `last modified: ${\n",
              "            file.lastModifiedDate ? file.lastModifiedDate.toLocaleDateString() :\n",
              "                                    'n/a'} - `));\n",
              "    const percent = span('0% done');\n",
              "    li.appendChild(percent);\n",
              "\n",
              "    outputElement.appendChild(li);\n",
              "\n",
              "    const fileDataPromise = new Promise((resolve) => {\n",
              "      const reader = new FileReader();\n",
              "      reader.onload = (e) => {\n",
              "        resolve(e.target.result);\n",
              "      };\n",
              "      reader.readAsArrayBuffer(file);\n",
              "    });\n",
              "    // Wait for the data to be ready.\n",
              "    let fileData = yield {\n",
              "      promise: fileDataPromise,\n",
              "      response: {\n",
              "        action: 'continue',\n",
              "      }\n",
              "    };\n",
              "\n",
              "    // Use a chunked sending to avoid message size limits. See b/62115660.\n",
              "    let position = 0;\n",
              "    do {\n",
              "      const length = Math.min(fileData.byteLength - position, MAX_PAYLOAD_SIZE);\n",
              "      const chunk = new Uint8Array(fileData, position, length);\n",
              "      position += length;\n",
              "\n",
              "      const base64 = btoa(String.fromCharCode.apply(null, chunk));\n",
              "      yield {\n",
              "        response: {\n",
              "          action: 'append',\n",
              "          file: file.name,\n",
              "          data: base64,\n",
              "        },\n",
              "      };\n",
              "\n",
              "      let percentDone = fileData.byteLength === 0 ?\n",
              "          100 :\n",
              "          Math.round((position / fileData.byteLength) * 100);\n",
              "      percent.textContent = `${percentDone}% done`;\n",
              "\n",
              "    } while (position < fileData.byteLength);\n",
              "  }\n",
              "\n",
              "  // All done.\n",
              "  yield {\n",
              "    response: {\n",
              "      action: 'complete',\n",
              "    }\n",
              "  };\n",
              "}\n",
              "\n",
              "scope.google = scope.google || {};\n",
              "scope.google.colab = scope.google.colab || {};\n",
              "scope.google.colab._files = {\n",
              "  _uploadFiles,\n",
              "  _uploadFilesContinue,\n",
              "};\n",
              "})(self);\n",
              "</script> "
            ]
          },
          "metadata": {}
        },
        {
          "output_type": "stream",
          "name": "stdout",
          "text": [
            "Saving desired_skills.txt to desired_skills.txt\n",
            "Uploaded file: desired_skills.txt\n",
            "\n",
            "Contents of 'desired_skills.txt':\n",
            "Sample Space Analysis: An Equation-Free Approach for Measuring Uncertainty in Outcomes.\n",
            "Computing Non-Trivial Probabilities\n",
            "Basic Matplotlib plots\n",
            "Plotting Coin-flip Probabilities.\n",
            "Executing Randomized Numerical Simulations Using Python\n",
            "Basic Probability and Statistical Analysis Using SciPy\n",
            "Making Predictions Using the Central Limit Theorem and SciPy\n",
            "Statistical Hypothesis Testing\n",
            "Analyzing Tables Using Pandas\n",
            "Storing Tables Using Basic Python\n",
            "Exploring Tables Using Pandas\n",
            "Retrieving Table Columns\n",
            "Retrieving Table Rows\n",
            "Modifying Table Rows and Columns\n",
            "Visualizing Tables Using Seaborn\n",
            "Clustering Data into Groups\n",
            "Using Centrality to Discover Clusters\n",
            "K-Means: A Clustering Algorithm for Grouping Data into K Central Groups\n",
            "Using Density to Discover Clusters\n",
            "DBSCAN: A Clustering Algorithm for Grouping Data Based on Spatial Density\n",
            "Analyzing Clusters Using Pandas\n",
            "Dimension Reduction of Matrix Data\n",
            "Clustering 2D Data in 1-Dimension\n",
            "Dimension Reduction Using PCA and Scikit-Learn\n",
            "Clustering 4D Data in 2-Dimensions\n",
            "Computing Principal Components\n",
            "NLP Analysis of Large Text Datasets\n",
            "Clustering Texts by Topic\n",
            "Visualizing Text Clusters\n",
            "\n"
          ]
        }
      ],
      "source": [
        "from google.colab import files\n",
        "import zipfile\n",
        "import os\n",
        "\n",
        "# Step 1: Upload file (either zip or desired_skills.txt)\n",
        "print(\"Upload the file (either 'desired_skills.txt' or a zip containing it).\")\n",
        "uploaded = files.upload()\n",
        "\n",
        "# Step 2: Handle the uploaded file\n",
        "file_name = next(iter(uploaded))  # Get the uploaded file name\n",
        "\n",
        "if file_name.endswith('.zip'):\n",
        "    # If a zip file is uploaded, extract it\n",
        "    print(f\"Extracting contents of {file_name}...\")\n",
        "    with zipfile.ZipFile(file_name, 'r') as zip_ref:\n",
        "        zip_ref.extractall(\"./\")  # Extract all files into the current directory\n",
        "    print(\"Extraction complete. Current directory contents:\", os.listdir(\"./\"))\n",
        "else:\n",
        "    print(f\"Uploaded file: {file_name}\")\n",
        "\n",
        "# Step 3: Check for 'desired_skills.txt' and read it\n",
        "if os.path.exists('desired_skills.txt'):\n",
        "    try:\n",
        "        desired = open('desired_skills.txt', 'r').read()\n",
        "        print(\"\\nContents of 'desired_skills.txt':\")\n",
        "        print(desired)\n",
        "    except Exception as e:\n",
        "        print(f\"Error reading 'desired_skills.txt': {e}\")\n",
        "else:\n",
        "    print(\"Error: 'desired_skills.txt' not found. Creating a sample file...\")\n",
        "\n",
        "    # Step 4: Create 'desired_skills.txt' if not found\n",
        "    with open('desired_skills.txt', 'w') as f:\n",
        "        f.write(\"\"\"\n",
        "        Python\n",
        "        Machine Learning\n",
        "        Data Visualization\n",
        "        TensorFlow\n",
        "        Deep Learning\n",
        "        \"\"\")\n",
        "    print(\"'desired_skills.txt' created with sample data.\")\n",
        "\n",
        "    # Step 5: Read the newly created file\n",
        "    desired = open('desired_skills.txt', 'r').read()\n",
        "    print(\"\\nContents of the newly created 'desired_skills.txt':\")\n",
        "    print(desired)\n"
      ]
    },
    {
      "cell_type": "markdown",
      "metadata": {
        "id": "o_pijiaZN1OE"
      },
      "source": [
        "Together, `resume` and `table_of_contents` summarize our existing skill-set. Lets concatenate these skills into a single `existing_skills` string.\n",
        "\n",
        "**Combining skills into a single string**"
      ]
    },
    {
      "cell_type": "code",
      "execution_count": 59,
      "metadata": {
        "id": "dSEuTAJ0N1OE"
      },
      "outputs": [],
      "source": [
        "existing_skills = resume + desired"
      ]
    },
    {
      "cell_type": "markdown",
      "metadata": {
        "id": "SB_8dFpFN1OE"
      },
      "source": [
        "We want to compute all similarities between `df_jobs.Body` and `existing_skills.` This computation first requires that we vectorize all texts.\n",
        "\n",
        "**Vectorizing our skills and the job-posting data**"
      ]
    },
    {
      "cell_type": "code",
      "execution_count": 61,
      "metadata": {
        "id": "0pfMPVhfN1OE",
        "colab": {
          "base_uri": "https://localhost:8080/"
        },
        "outputId": "0b83c01a-9c55-46ef-f179-4e1a94a870c7"
      },
      "outputs": [
        {
          "output_type": "stream",
          "name": "stdout",
          "text": [
            "TF-IDF Matrix Shape: (4, 15)\n",
            "\n",
            "Similarity Scores:\n",
            "Job Posting 1: 0.78\n",
            "Job Posting 2: 0.12\n",
            "Job Posting 3: 0.00\n"
          ]
        }
      ],
      "source": [
        "from sklearn.feature_extraction.text import TfidfVectorizer\n",
        "import pandas as pd\n",
        "from sklearn.metrics.pairwise import cosine_similarity\n",
        "\n",
        "# Step 1: Create a sample DataFrame `df_jobs`\n",
        "df_jobs = pd.DataFrame({\n",
        "    'Body': [\n",
        "        \"Python, Machine Learning, Deep Learning, TensorFlow\",\n",
        "        \"Data Science, Artificial Intelligence, Neural Networks\",\n",
        "        \"Teamwork, Communication, Leadership\"\n",
        "    ]\n",
        "})\n",
        "\n",
        "# Step 2: Define the `resume` and `desired_skills` strings\n",
        "resume = \"Python, Machine Learning, Data Visualization\"\n",
        "desired_skills = \"\"\"\n",
        "Python\n",
        "Machine Learning\n",
        "Deep Learning\n",
        "Data Visualization\n",
        "TensorFlow\n",
        "\"\"\"\n",
        "\n",
        "# Step 3: Combine the skills into a single string\n",
        "existing_skills = resume + desired_skills\n",
        "\n",
        "# Step 4: Combine job postings and `existing_skills` into a list\n",
        "text_list = df_jobs['Body'].tolist() + [existing_skills]\n",
        "\n",
        "# Step 5: Initialize the TfidfVectorizer\n",
        "vectorizer = TfidfVectorizer(stop_words='english')\n",
        "\n",
        "# Step 6: Fit and transform the text data into a TF-IDF matrix\n",
        "tfidf_matrix = vectorizer.fit_transform(text_list).toarray()\n",
        "\n",
        "# Step 7: Display the matrix dimensions\n",
        "print(\"TF-IDF Matrix Shape:\", tfidf_matrix.shape)\n",
        "\n",
        "# Step 8: Calculate cosine similarity\n",
        "similarity_scores = cosine_similarity(tfidf_matrix[:-1], tfidf_matrix[-1].reshape(1, -1))\n",
        "\n",
        "# Step 9: Display similarity scores for each job posting\n",
        "print(\"\\nSimilarity Scores:\")\n",
        "for i, score in enumerate(similarity_scores):\n",
        "    print(f\"Job Posting {i + 1}: {score[0]:.2f}\")\n"
      ]
    },
    {
      "cell_type": "markdown",
      "metadata": {
        "id": "U0NgChipN1OE"
      },
      "source": [
        "Our vectorized texts are stored in a matrix format within `tfidf_matrix`. The final matrix row (`tfidf_matrix[-1]`) corresponds to our existing skill-set. Thus, we can easily compute the cosine similarities between the job postings and `existing_skills`, by running `tfdf_matrix[:-1] @ tfidf_matrix[-1]`.\n",
        "\n",
        "**Computing skill-based cosine similarities**"
      ]
    },
    {
      "cell_type": "code",
      "execution_count": 62,
      "metadata": {
        "id": "rh2mSdJRN1OF"
      },
      "outputs": [],
      "source": [
        "cosine_similarities = tfidf_matrix[:-1] @ tfidf_matrix[-1]"
      ]
    },
    {
      "cell_type": "markdown",
      "metadata": {
        "id": "askmt5xPN1OF"
      },
      "source": [
        "We can leverage `cosine_similarities` to rank to the jobs by relevance. Lets proceed to carry out the ranking. Afterwards, we'll confirm if the 20 least-relevant jobs have anything to do with data science.\n",
        "\n",
        "**Printing the 20 least-relevant jobs**"
      ]
    },
    {
      "cell_type": "code",
      "execution_count": 65,
      "metadata": {
        "id": "MFSyVA9HN1OF",
        "colab": {
          "base_uri": "https://localhost:8080/"
        },
        "outputId": "49b54a81-b28d-4ec3-b670-2dfbf4782b7a"
      },
      "outputs": [
        {
          "output_type": "stream",
          "name": "stdout",
          "text": [
            "\n",
            "20 Least Relevant Job Postings by Title:\n",
            "Data Scientist\n",
            "Machine Learning Engineer\n",
            "Patient Care Assistant\n"
          ]
        }
      ],
      "source": [
        "import pandas as pd\n",
        "from sklearn.feature_extraction.text import TfidfVectorizer\n",
        "from sklearn.metrics.pairwise import cosine_similarity\n",
        "\n",
        "# Sample data (replace this with actual data or loading logic)\n",
        "df_jobs = pd.DataFrame({\n",
        "    'Body': [\n",
        "        \"Python, Machine Learning, Data Analysis\",\n",
        "        \"TensorFlow, Deep Learning, Model Deployment\",\n",
        "        \"Patient care, Record keeping, Teamwork\"\n",
        "    ],\n",
        "    'Title': [\"Data Scientist\", \"Machine Learning Engineer\", \"Patient Care Assistant\"]\n",
        "})\n",
        "\n",
        "resume = \"Python, Machine Learning, Deep Learning, Data Analysis, Teamwork\"\n",
        "desired_skills = \"Data Analysis, Machine Learning, Team Collaboration, Communication\"\n",
        "\n",
        "# Combine skills into a single string\n",
        "existing_skills = resume + \", \" + desired_skills\n",
        "\n",
        "# Step 1: Vectorize the text (job postings and skills)\n",
        "text_list = df_jobs['Body'].values.tolist() + [existing_skills]\n",
        "vectorizer = TfidfVectorizer(stop_words='english')\n",
        "tfidf_matrix = vectorizer.fit_transform(text_list)\n",
        "\n",
        "# Step 2: Calculate cosine similarity\n",
        "cosine_similarities = cosine_similarity(tfidf_matrix[:-1], tfidf_matrix[-1:])\n",
        "\n",
        "# Step 3: Add relevance scores to the DataFrame\n",
        "df_jobs['Relevance'] = cosine_similarities.flatten()\n",
        "\n",
        "# Step 4: Sort jobs by relevance in descending order\n",
        "sorted_df_jobs = df_jobs.sort_values('Relevance', ascending=False)\n",
        "\n",
        "# Step 5: Display the 20 least relevant job postings (or as many as available)\n",
        "if 'Title' in sorted_df_jobs.columns:\n",
        "    print(\"\\n20 Least Relevant Job Postings by Title:\")\n",
        "    for title in sorted_df_jobs['Title'][-20:]:\n",
        "        print(title)\n",
        "else:\n",
        "    print(\"\\n20 Least Relevant Job Postings by Body:\")\n",
        "    for body in sorted_df_jobs['Body'][-20:]:\n",
        "        print(body)\n"
      ]
    },
    {
      "cell_type": "markdown",
      "metadata": {
        "id": "PCWYNbzdN1OF"
      },
      "source": [
        "Almost all the printed jobs are completely irrelevant! Now, for comparison’s sake, lets print the 20 most-relevant job titles in `sorted_ds_jobs`.\n",
        "\n",
        "**Printing the 20 most-relevant jobs**"
      ]
    },
    {
      "cell_type": "code",
      "execution_count": 66,
      "metadata": {
        "id": "9-txZc2wN1OG",
        "colab": {
          "base_uri": "https://localhost:8080/"
        },
        "outputId": "c932a565-ce1a-469a-c5f1-056d22b0f293"
      },
      "outputs": [
        {
          "output_type": "stream",
          "name": "stdout",
          "text": [
            "Data Scientist\n",
            "Machine Learning Engineer\n",
            "Patient Care Assistant\n"
          ]
        }
      ],
      "source": [
        "for title in sorted_df_jobs[:20].Title:\n",
        "    print(title)"
      ]
    },
    {
      "cell_type": "markdown",
      "metadata": {
        "id": "CNq6cWXeN1OG"
      },
      "source": [
        "Whenv`df_jobs.Relevance` is high, the associated job postings are relevant. As `df_jobs.Relevance` decreases, the associated jobs become less relevant. Thus, we can presume that there exists some `df_jobs.Relevance` cutoff, which separates the relevant jobs from the non-relevant jobs. Lets try to identify that cutoff. by visualizing the shape of the sorted relevance distribution.\n",
        "\n",
        "**Plotting job-ranking vs relevance**"
      ]
    },
    {
      "cell_type": "code",
      "execution_count": 67,
      "metadata": {
        "id": "Ggrdi_e3N1OG",
        "colab": {
          "base_uri": "https://localhost:8080/",
          "height": 449
        },
        "outputId": "64fbafd9-80bd-4c2d-b7ae-20f9f0ed5aff"
      },
      "outputs": [
        {
          "output_type": "display_data",
          "data": {
            "text/plain": [
              "<Figure size 640x480 with 1 Axes>"
            ],
            "image/png": "[encoded data removed]"
          },
          "metadata": {}
        }
      ],
      "source": [
        "import matplotlib.pyplot as plt\n",
        "plt.plot(range(df_jobs.shape[0]), sorted_df_jobs.Relevance.values)\n",
        "plt.xlabel('Index')\n",
        "plt.ylabel('Relevance')\n",
        "plt.show()"
      ]
    },
    {
      "cell_type": "markdown",
      "metadata": {
        "id": "yokED4-pN1OG"
      },
      "source": [
        "Our relevance curve resembles a K-means Elbow plot. Initially, the relevance drops rapidly. Then, at an x-value of approximately 60, the curve begins to level off. Lets emphasize this transition by striking a vertical line through the x-position of 60 in our plot.\n",
        "\n",
        "**Adding a cutoff to the relevance plot**"
      ]
    },
    {
      "cell_type": "code",
      "execution_count": 68,
      "metadata": {
        "id": "wmiEGKvDN1OH",
        "colab": {
          "base_uri": "https://localhost:8080/",
          "height": 449
        },
        "outputId": "84b3942c-68c0-4d73-d321-55531efa19a0"
      },
      "outputs": [
        {
          "output_type": "display_data",
          "data": {
            "text/plain": [
              "<Figure size 640x480 with 1 Axes>"
            ],
            "image/png": "[encoded data removed]"
          },
          "metadata": {}
        }
      ],
      "source": [
        "plt.plot(range(df_jobs.shape[0]), sorted_df_jobs.Relevance.values)\n",
        "plt.xlabel('Index')\n",
        "plt.ylabel('Relevance')\n",
        "plt.axvline(60, c='k')\n",
        "plt.show()"
      ]
    },
    {
      "cell_type": "markdown",
      "metadata": {
        "id": "1X8eBfhnN1OH"
      },
      "source": [
        "Our plot implies that the first 60 jobs are noticeably more relevant than all subsequent jobs. Based on our hypothesis, jobs 40 - 60 should be highly relevant.\n",
        "\n",
        "**Printing jobs below the relevance cutoff**"
      ]
    },
    {
      "cell_type": "code",
      "execution_count": 69,
      "metadata": {
        "id": "O1hSwyzkN1OH"
      },
      "outputs": [],
      "source": [
        "for title in sorted_df_jobs[40: 60].Title.values:\n",
        "    print(title)"
      ]
    },
    {
      "cell_type": "markdown",
      "metadata": {
        "id": "AELMq5ItN1OH"
      },
      "source": [
        "Almost all the printed jobs are are highly relevant. Implicity, the relevance should decrease when we print the next 20 job-titles, since they lie beyond the bounds of index 60. Lets verify if this is the case.\n",
        "\n",
        "**Printing jobs beyond the relevance cutoff**"
      ]
    },
    {
      "cell_type": "code",
      "execution_count": 70,
      "metadata": {
        "id": "mlGVhePIN1OH"
      },
      "outputs": [],
      "source": [
        "for title in sorted_df_jobs[60: 80].Title.values:\n",
        "    print(title)"
      ]
    },
    {
      "cell_type": "markdown",
      "metadata": {
        "id": "10_l4CTSN1OH"
      },
      "source": [
        "A majority of the printed jobs refer to data science / analyst roles, outside the scope of health science or management. We can quickly quantify this observation using regular expressions. Below, we’ll define a `percent_relevant_tiles` function, which returns the percent of non-management data science and analysis jobs within a data frame slice.\n",
        "\n",
        "**Measuring title relevance in a subset of jobs**"
      ]
    },
    {
      "cell_type": "code",
      "execution_count": 72,
      "metadata": {
        "id": "H0IanYcJN1OH",
        "colab": {
          "base_uri": "https://localhost:8080/"
        },
        "outputId": "deae7a52-80f7-42c5-c758-bb651b79348f"
      },
      "outputs": [
        {
          "output_type": "stream",
          "name": "stdout",
          "text": [
            "Approximately 0.00% of job titles between indices 60-80 are relevant.\n"
          ]
        }
      ],
      "source": [
        "import re\n",
        "\n",
        "def percent_relevant_titles(df):\n",
        "    if df.shape[0] == 0:  # Check if the DataFrame is empty\n",
        "        return 0  # Return 0% relevance for empty DataFrame\n",
        "\n",
        "    regex_relevant = re.compile(r'Data (Scien|Analy)', flags=re.IGNORECASE)\n",
        "    regex_irrelevant = re.compile(r'\\b(Manage)', flags=re.IGNORECASE)\n",
        "\n",
        "    match_count = len([title for title in df['Title']\n",
        "                       if regex_relevant.search(title)\n",
        "                       and not regex_irrelevant.search(title)])\n",
        "\n",
        "    percent = 100 * match_count / df.shape[0]\n",
        "    return percent\n",
        "\n",
        "# Example usage with a DataFrame slice\n",
        "percent = percent_relevant_titles(sorted_df_jobs[60:80])\n",
        "print(f\"Approximately {percent:.2f}% of job titles between indices 60-80 are relevant.\")\n"
      ]
    },
    {
      "cell_type": "markdown",
      "metadata": {
        "id": "-Fi7-CvAN1OH"
      },
      "source": [
        "Approximately 65% of the job-titles in `sorted_df_jobs[60: 80]` are relevant. Perhaps that percentage will drop if we sample the next 20 jobs, across an index range of 80 - 100.\n",
        "\n",
        "**Measuring title relevance in the next subset of jobs**"
      ]
    },
    {
      "cell_type": "code",
      "execution_count": 73,
      "metadata": {
        "id": "HtRuzSuVN1OI",
        "colab": {
          "base_uri": "https://localhost:8080/"
        },
        "outputId": "595fd2dc-2618-4dfa-b99d-9efc1df46369"
      },
      "outputs": [
        {
          "output_type": "stream",
          "name": "stdout",
          "text": [
            "Approximately 0.00% of job titles between indices 80 - 100 are relevant\n"
          ]
        }
      ],
      "source": [
        "percent = percent_relevant_titles(sorted_df_jobs[80: 100])\n",
        "print(f\"Approximately {percent:.2f}% of job titles between indices \"\n",
        "       \"80 - 100 are relevant\")"
      ]
    },
    {
      "cell_type": "markdown",
      "metadata": {
        "id": "G1_Q-A7fN1OI"
      },
      "source": [
        "Nope! The data science title-percentage rose to 80%. At what point will the percentage drop below 50%? We can easily find out, using a plot.\n",
        "\n",
        "**Plotting percent relevance across all title samples**"
      ]
    },
    {
      "cell_type": "code",
      "execution_count": 74,
      "metadata": {
        "id": "H7JjNW2rN1OI",
        "colab": {
          "base_uri": "https://localhost:8080/",
          "height": 449
        },
        "outputId": "69c0a977-21e3-41c1-ac58-afb839a69cae"
      },
      "outputs": [
        {
          "output_type": "display_data",
          "data": {
            "text/plain": [
              "<Figure size 640x480 with 1 Axes>"
            ],
            "image/png": "[encoded data removed]"
          },
          "metadata": {}
        }
      ],
      "source": [
        "def relevant_title_plot(index_range=20):\n",
        "    percentages = []\n",
        "    start_indices = range(df_jobs.shape[0] - index_range)\n",
        "    for i in start_indices:\n",
        "        df_slice = sorted_df_jobs[i: i + index_range]\n",
        "        percent = percent_relevant_titles(df_slice)\n",
        "        percentages.append(percent)\n",
        "\n",
        "    plt.plot(start_indices, percentages)\n",
        "    plt.axhline(50, c='k')\n",
        "    plt.xlabel('Index')\n",
        "    plt.ylabel('% Relevant Titles')\n",
        "\n",
        "relevant_title_plot()\n",
        "plt.show()"
      ]
    },
    {
      "cell_type": "markdown",
      "metadata": {
        "id": "5ESjlm4rN1OI"
      },
      "source": [
        "The relevant Data Science titles drop below 50% at an index of around 700. Of course, its possible that the cutoff of 700 is merely an artifact of our chosen index range. Will the cutoff still be present if double our index range? Lets find out.\n",
        "\n",
        "**Plotting percent relevance across an increased index-range**"
      ]
    },
    {
      "cell_type": "code",
      "execution_count": 75,
      "metadata": {
        "id": "OOjPVSmfN1OI",
        "colab": {
          "base_uri": "https://localhost:8080/",
          "height": 449
        },
        "outputId": "6464f3e7-1a0e-45e6-a977-ad2c45209a92"
      },
      "outputs": [
        {
          "output_type": "display_data",
          "data": {
            "text/plain": [
              "<Figure size 640x480 with 1 Axes>"
            ],
            "image/png": "[encoded data removed]"
          },
          "metadata": {}
        }
      ],
      "source": [
        "relevant_title_plot(index_range=40)\n",
        "plt.axvline(700, c='k')\n",
        "plt.show()"
      ]
    },
    {
      "cell_type": "markdown",
      "metadata": {
        "id": "1q5iisUWN1OI"
      },
      "source": [
        "Our updated plot continues to drop below 50% at an index cutoff of 700.\n",
        "\n",
        "\n",
        "At this point, we face a choice between 2 relevance cutoffs. Our first cutoff, at index 60, is highly precise. Meanwhile, our second cutoff of 700 captures many-more data science positions. So, which cutoff do we choose?  How about we try both cutoffs? That way compare the tradeoffs and benefits of each!\n",
        "\n",
        "We will now proceed to cluster the skills within the relevant job postings. Initially, we’ll set our relevance cutoff to an index of 60.\n",
        "\n",
        "## Clustering Skills in Relevant Job Postings\n",
        "\n",
        "Our aim is to cluster the skills within the 60 most-relevant job postings. The skills within each posting are diverse, and partially represented by bullet-points. Consequently, we’ll proceed to cluster the scraped bullets. We’ll start by storing `sorted_df_jobs[:60].Bullets` within a single list.\n",
        "\n",
        "**Obtaining bullets from the 60 most-relevant jobs**"
      ]
    },
    {
      "cell_type": "code",
      "execution_count": 77,
      "metadata": {
        "id": "vP3kMWlJN1OI",
        "colab": {
          "base_uri": "https://localhost:8080/"
        },
        "outputId": "826b79c0-957c-48de-c4dc-2f873989e540"
      },
      "outputs": [
        {
          "output_type": "stream",
          "name": "stdout",
          "text": [
            "Available columns: Index(['Body', 'Title', 'Relevance'], dtype='object')\n",
            "Please ensure the correct column name is used for bullets.\n"
          ]
        }
      ],
      "source": [
        "# Assuming 'Bullets' column is named 'Skills' in the DataFrame\n",
        "total_bullets = []\n",
        "\n",
        "if 'Bullets' in sorted_df_jobs.columns:  # Replace 'Bullets' with the correct column name if needed\n",
        "    for bullets in sorted_df_jobs[:60]['Bullets']:\n",
        "        total_bullets.extend(bullets)\n",
        "else:\n",
        "    print(f\"Available columns: {sorted_df_jobs.columns}\")\n",
        "    print(\"Please ensure the correct column name is used for bullets.\")\n"
      ]
    },
    {
      "cell_type": "markdown",
      "metadata": {
        "id": "7c184OuYN1OI"
      },
      "source": [
        "How many bullets are present in the list? Also, are any of the bullets duplicated? We can check using Pandas.\n",
        "\n",
        "**Summarizing basic bullet statistic**"
      ]
    },
    {
      "cell_type": "code",
      "execution_count": 78,
      "metadata": {
        "id": "iAkBoBY7N1OI",
        "colab": {
          "base_uri": "https://localhost:8080/"
        },
        "outputId": "81dc0d6c-8a54-4d8d-dd00-5d56bc637e88"
      },
      "outputs": [
        {
          "output_type": "stream",
          "name": "stdout",
          "text": [
            "       Bullet\n",
            "count     0.0\n",
            "mean      NaN\n",
            "std       NaN\n",
            "min       NaN\n",
            "25%       NaN\n",
            "50%       NaN\n",
            "75%       NaN\n",
            "max       NaN\n"
          ]
        }
      ],
      "source": [
        "df_bullets = pd.DataFrame({'Bullet': total_bullets})\n",
        "print(df_bullets.describe())"
      ]
    },
    {
      "cell_type": "markdown",
      "metadata": {
        "id": "1a3Zw0AON1OI"
      },
      "source": [
        "Only 900 of the bullets are unique. Below, we’ll filter empty strings and duplicates from our bullet list. Afterwards, we’ll vectorize the list using a TFIDF vectorizer.\n",
        "\n",
        "**Removing duplicates and vectorizing the bullets**"
      ]
    },
    {
      "cell_type": "code",
      "execution_count": 79,
      "metadata": {
        "id": "OCEZlafgN1OI",
        "colab": {
          "base_uri": "https://localhost:8080/",
          "height": 371
        },
        "outputId": "ad6ece11-55c5-4096-b9c4-dd513108c8c8"
      },
      "outputs": [
        {
          "output_type": "error",
          "ename": "ValueError",
          "evalue": "empty vocabulary; perhaps the documents only contain stop words",
          "traceback": [
            "\u001b[0;31m---------------------------------------------------------------------------\u001b[0m",
            "\u001b[0;31mValueError\u001b[0m                                Traceback (most recent call last)",
            "\u001b[0;32m<ipython-input-79-cc23111c7209>\u001b[0m in \u001b[0;36m<cell line: 3>\u001b[0;34m()\u001b[0m\n\u001b[1;32m      1\u001b[0m \u001b[0mtotal_bullets\u001b[0m \u001b[0;34m=\u001b[0m \u001b[0msorted\u001b[0m\u001b[0;34m(\u001b[0m\u001b[0mset\u001b[0m\u001b[0;34m(\u001b[0m\u001b[0mtotal_bullets\u001b[0m\u001b[0;34m)\u001b[0m\u001b[0;34m)\u001b[0m\u001b[0;34m\u001b[0m\u001b[0;34m\u001b[0m\u001b[0m\n\u001b[1;32m      2\u001b[0m \u001b[0mvectorizer\u001b[0m \u001b[0;34m=\u001b[0m \u001b[0mTfidfVectorizer\u001b[0m\u001b[0;34m(\u001b[0m\u001b[0mstop_words\u001b[0m\u001b[0;34m=\u001b[0m\u001b[0;34m'english'\u001b[0m\u001b[0;34m)\u001b[0m\u001b[0;34m\u001b[0m\u001b[0;34m\u001b[0m\u001b[0m\n\u001b[0;32m----> 3\u001b[0;31m \u001b[0mtfidf_matrix\u001b[0m \u001b[0;34m=\u001b[0m \u001b[0mvectorizer\u001b[0m\u001b[0;34m.\u001b[0m\u001b[0mfit_transform\u001b[0m\u001b[0;34m(\u001b[0m\u001b[0mtotal_bullets\u001b[0m\u001b[0;34m)\u001b[0m\u001b[0;34m\u001b[0m\u001b[0;34m\u001b[0m\u001b[0m\n\u001b[0m\u001b[1;32m      4\u001b[0m \u001b[0mnum_rows\u001b[0m\u001b[0;34m,\u001b[0m \u001b[0mnum_columns\u001b[0m \u001b[0;34m=\u001b[0m \u001b[0mtfidf_matrix\u001b[0m\u001b[0;34m.\u001b[0m\u001b[0mshape\u001b[0m\u001b[0;34m\u001b[0m\u001b[0;34m\u001b[0m\u001b[0m\n\u001b[1;32m      5\u001b[0m \u001b[0mprint\u001b[0m\u001b[0;34m(\u001b[0m\u001b[0;34mf\"Our matrix has {num_rows} rows and {num_columns} columns\"\u001b[0m\u001b[0;34m)\u001b[0m\u001b[0;34m\u001b[0m\u001b[0;34m\u001b[0m\u001b[0m\n",
            "\u001b[0;32m/usr/local/lib/python3.10/dist-packages/sklearn/feature_extraction/text.py\u001b[0m in \u001b[0;36mfit_transform\u001b[0;34m(self, raw_documents, y)\u001b[0m\n\u001b[1;32m   2089\u001b[0m             \u001b[0msublinear_tf\u001b[0m\u001b[0;34m=\u001b[0m\u001b[0mself\u001b[0m\u001b[0;34m.\u001b[0m\u001b[0msublinear_tf\u001b[0m\u001b[0;34m,\u001b[0m\u001b[0;34m\u001b[0m\u001b[0;34m\u001b[0m\u001b[0m\n\u001b[1;32m   2090\u001b[0m         )\n\u001b[0;32m-> 2091\u001b[0;31m         \u001b[0mX\u001b[0m \u001b[0;34m=\u001b[0m \u001b[0msuper\u001b[0m\u001b[0;34m(\u001b[0m\u001b[0;34m)\u001b[0m\u001b[0;34m.\u001b[0m\u001b[0mfit_transform\u001b[0m\u001b[0;34m(\u001b[0m\u001b[0mraw_documents\u001b[0m\u001b[0;34m)\u001b[0m\u001b[0;34m\u001b[0m\u001b[0;34m\u001b[0m\u001b[0m\n\u001b[0m\u001b[1;32m   2092\u001b[0m         \u001b[0mself\u001b[0m\u001b[0;34m.\u001b[0m\u001b[0m_tfidf\u001b[0m\u001b[0;34m.\u001b[0m\u001b[0mfit\u001b[0m\u001b[0;34m(\u001b[0m\u001b[0mX\u001b[0m\u001b[0;34m)\u001b[0m\u001b[0;34m\u001b[0m\u001b[0;34m\u001b[0m\u001b[0m\n\u001b[1;32m   2093\u001b[0m         \u001b[0;31m# X is already a transformed view of raw_documents so\u001b[0m\u001b[0;34m\u001b[0m\u001b[0;34m\u001b[0m\u001b[0m\n",
            "\u001b[0;32m/usr/local/lib/python3.10/dist-packages/sklearn/base.py\u001b[0m in \u001b[0;36mwrapper\u001b[0;34m(estimator, *args, **kwargs)\u001b[0m\n\u001b[1;32m   1471\u001b[0m                 )\n\u001b[1;32m   1472\u001b[0m             ):\n\u001b[0;32m-> 1473\u001b[0;31m                 \u001b[0;32mreturn\u001b[0m \u001b[0mfit_method\u001b[0m\u001b[0;34m(\u001b[0m\u001b[0mestimator\u001b[0m\u001b[0;34m,\u001b[0m \u001b[0;34m*\u001b[0m\u001b[0margs\u001b[0m\u001b[0;34m,\u001b[0m \u001b[0;34m**\u001b[0m\u001b[0mkwargs\u001b[0m\u001b[0;34m)\u001b[0m\u001b[0;34m\u001b[0m\u001b[0;34m\u001b[0m\u001b[0m\n\u001b[0m\u001b[1;32m   1474\u001b[0m \u001b[0;34m\u001b[0m\u001b[0m\n\u001b[1;32m   1475\u001b[0m         \u001b[0;32mreturn\u001b[0m \u001b[0mwrapper\u001b[0m\u001b[0;34m\u001b[0m\u001b[0;34m\u001b[0m\u001b[0m\n",
            "\u001b[0;32m/usr/local/lib/python3.10/dist-packages/sklearn/feature_extraction/text.py\u001b[0m in \u001b[0;36mfit_transform\u001b[0;34m(self, raw_documents, y)\u001b[0m\n\u001b[1;32m   1370\u001b[0m                     \u001b[0;32mbreak\u001b[0m\u001b[0;34m\u001b[0m\u001b[0;34m\u001b[0m\u001b[0m\n\u001b[1;32m   1371\u001b[0m \u001b[0;34m\u001b[0m\u001b[0m\n\u001b[0;32m-> 1372\u001b[0;31m         \u001b[0mvocabulary\u001b[0m\u001b[0;34m,\u001b[0m \u001b[0mX\u001b[0m \u001b[0;34m=\u001b[0m \u001b[0mself\u001b[0m\u001b[0;34m.\u001b[0m\u001b[0m_count_vocab\u001b[0m\u001b[0;34m(\u001b[0m\u001b[0mraw_documents\u001b[0m\u001b[0;34m,\u001b[0m \u001b[0mself\u001b[0m\u001b[0;34m.\u001b[0m\u001b[0mfixed_vocabulary_\u001b[0m\u001b[0;34m)\u001b[0m\u001b[0;34m\u001b[0m\u001b[0;34m\u001b[0m\u001b[0m\n\u001b[0m\u001b[1;32m   1373\u001b[0m \u001b[0;34m\u001b[0m\u001b[0m\n\u001b[1;32m   1374\u001b[0m         \u001b[0;32mif\u001b[0m \u001b[0mself\u001b[0m\u001b[0;34m.\u001b[0m\u001b[0mbinary\u001b[0m\u001b[0;34m:\u001b[0m\u001b[0;34m\u001b[0m\u001b[0;34m\u001b[0m\u001b[0m\n",
            "\u001b[0;32m/usr/local/lib/python3.10/dist-packages/sklearn/feature_extraction/text.py\u001b[0m in \u001b[0;36m_count_vocab\u001b[0;34m(self, raw_documents, fixed_vocab)\u001b[0m\n\u001b[1;32m   1276\u001b[0m             \u001b[0mvocabulary\u001b[0m \u001b[0;34m=\u001b[0m \u001b[0mdict\u001b[0m\u001b[0;34m(\u001b[0m\u001b[0mvocabulary\u001b[0m\u001b[0;34m)\u001b[0m\u001b[0;34m\u001b[0m\u001b[0;34m\u001b[0m\u001b[0m\n\u001b[1;32m   1277\u001b[0m             \u001b[0;32mif\u001b[0m \u001b[0;32mnot\u001b[0m \u001b[0mvocabulary\u001b[0m\u001b[0;34m:\u001b[0m\u001b[0;34m\u001b[0m\u001b[0;34m\u001b[0m\u001b[0m\n\u001b[0;32m-> 1278\u001b[0;31m                 raise ValueError(\n\u001b[0m\u001b[1;32m   1279\u001b[0m                     \u001b[0;34m\"empty vocabulary; perhaps the documents only contain stop words\"\u001b[0m\u001b[0;34m\u001b[0m\u001b[0;34m\u001b[0m\u001b[0m\n\u001b[1;32m   1280\u001b[0m                 )\n",
            "\u001b[0;31mValueError\u001b[0m: empty vocabulary; perhaps the documents only contain stop words"
          ]
        }
      ],
      "source": [
        "total_bullets = sorted(set(total_bullets))\n",
        "vectorizer = TfidfVectorizer(stop_words='english')\n",
        "tfidf_matrix = vectorizer.fit_transform(total_bullets)\n",
        "num_rows, num_columns = tfidf_matrix.shape\n",
        "print(f\"Our matrix has {num_rows} rows and {num_columns} columns\")"
      ]
    },
    {
      "cell_type": "markdown",
      "metadata": {
        "id": "tr5lUEQ5N1OJ"
      },
      "source": [
        "Our vectorized TFIDF matrix is too large for efficient clustering. Lets dimensionally reduce the matrix using the procedure described in Section Fifteen.\n",
        "\n",
        "**Dimensionally reducing the TFIDF matrix**"
      ]
    },
    {
      "cell_type": "code",
      "execution_count": null,
      "metadata": {
        "id": "LfBUbMHpN1OJ"
      },
      "outputs": [],
      "source": [
        "import numpy as np\n",
        "from sklearn.decomposition import TruncatedSVD\n",
        "from sklearn.preprocessing import normalize\n",
        "np.random.seed(0)\n",
        "\n",
        "def shrink_matrix(tfidf_matrix):\n",
        "    svd_object = TruncatedSVD(n_components=100)\n",
        "    shrunk_matrix = svd_object.fit_transform(tfidf_matrix)\n",
        "    return normalize(shrunk_matrix)\n",
        "\n",
        "shrunk_norm_matrix = shrink_matrix(tfidf_matrix)"
      ]
    },
    {
      "cell_type": "markdown",
      "metadata": {
        "id": "ZP8QYgwLN1OJ"
      },
      "source": [
        "We are nearly ready to cluster our normalized matrix using K-means. However, we’ll first need to estimate K using an Elbow plot.\n",
        "\n",
        "**Plotting an elbow curve using Mini Batch K-Means**"
      ]
    },
    {
      "cell_type": "code",
      "execution_count": null,
      "metadata": {
        "id": "DvTKEj7zN1OJ"
      },
      "outputs": [],
      "source": [
        "np.random.seed(0)\n",
        "from sklearn.cluster import MiniBatchKMeans\n",
        "def generate_elbow_plot(matrix):\n",
        "    k_values = range(1, 61)\n",
        "    inertia_values = [MiniBatchKMeans(k).fit(matrix).inertia_\n",
        "                      for k in k_values]\n",
        "    plt.plot(k_values, inertia_values)\n",
        "    plt.xlabel('K')\n",
        "    plt.ylabel('Inertia')\n",
        "    plt.grid(True)\n",
        "    plt.show()\n",
        "\n",
        "generate_elbow_plot(shrunk_norm_matrix)"
      ]
    },
    {
      "cell_type": "markdown",
      "metadata": {
        "id": "txvb0x_fN1OJ"
      },
      "source": [
        "The precise location of a bent elbow-shaped transition is difficult to spot. We don't know which K-value to choose. Lets cluster our data multiple times, using K-values of 10, 15, 20, and 25. Afterwards, we’ll compare and contrast the results.\n",
        "\n",
        "### Grouping the Job Skills into 15 Clusters\n",
        "\n",
        "Below, we’ll execute K-means using a K of 15.\n",
        "\n",
        "**Clustering bullets into 15 clusters**"
      ]
    },
    {
      "cell_type": "code",
      "execution_count": null,
      "metadata": {
        "id": "BKlbsdKpN1OJ"
      },
      "outputs": [],
      "source": [
        "np.random.seed(0)\n",
        "from sklearn.cluster import KMeans\n",
        "\n",
        "def compute_cluster_groups(shrunk_norm_matrix, k=15):\n",
        "    cluster_model = #FIXME    Use KMeans to cluster\n",
        "    clusters = cluster_model.fit_predict(FIXME)  # predict\n",
        "    df = pd.DataFrame({'Index': range(clusters.size), 'Cluster': clusters,\n",
        "                       'Bullet': total_bullets})\n",
        "    return [df_cluster for  _, df_cluster in df.groupby('Cluster')]\n",
        "\n",
        "cluster_groups = compute_cluster_groups(shrunk_norm_matrix)"
      ]
    },
    {
      "cell_type": "markdown",
      "metadata": {
        "id": "91dTHjIeN1OJ"
      },
      "source": [
        "Each of our text clusters is stored as a Pandas table within the `cluster_groups` list. We can visualize the clusters using word clouds. Below, we will define a `cluster_to_image` function, and then apply it to `cluster_groups[0]`.\n",
        "\n",
        "**Visualizing the first cluster**"
      ]
    },
    {
      "cell_type": "code",
      "execution_count": null,
      "metadata": {
        "id": "djSc64_cN1OJ"
      },
      "outputs": [],
      "source": [
        "from wordcloud import WordCloud\n",
        "np.random.seed(0)\n",
        "\n",
        "def cluster_to_image(df_cluster, max_words=10, tfidf_matrix=tfidf_matrix,\n",
        "                     vectorizer=vectorizer):\n",
        "    indices = df_cluster.Index.values\n",
        "    summed_tfidf = np.asarray(tfidf_matrix[indices].sum(axis=0))[0]\n",
        "    data = {'Word': vectorizer.get_feature_names_out(),'Summed TFIDF': summed_tfidf}\n",
        "    df_ranked_words = pd.DataFrame(data).sort_values('Summed TFIDF', ascending=False)\n",
        "    words_to_score = {word: score\n",
        "                     for word, score in df_ranked_words[:max_words].values\n",
        "                     if score != 0}\n",
        "    cloud_generator = WordCloud(background_color='white',\n",
        "                                color_func=_color_func,\n",
        "                                random_state=1)\n",
        "    wordcloud_image = cloud_generator.fit_words(words_to_score)\n",
        "    return wordcloud_image\n",
        "\n",
        "def _color_func(*args, **kwargs):\n",
        "    return np.random.choice(['black', 'blue', 'teal', 'purple', 'brown'])\n",
        "\n",
        "wordcloud_image = cluster_to_image(cluster_groups[0])\n",
        "plt.imshow(wordcloud_image, interpolation=\"bilinear\")\n",
        "plt.show()"
      ]
    },
    {
      "cell_type": "markdown",
      "metadata": {
        "id": "jJInBoChN1OJ"
      },
      "source": [
        "The language in the word-cloud appears to be describing a focused, data-oriented personality. However, that language is a little vague. Perhaps we can learn more about the cluster by printing some sample bullets from `cluster_group[0]`.\n",
        "\n",
        "**Printing sample bullets from Cluster 0**"
      ]
    },
    {
      "cell_type": "code",
      "execution_count": null,
      "metadata": {
        "id": "nE5We_wIN1OJ"
      },
      "outputs": [],
      "source": [
        "np.random.seed(1)\n",
        "def print_cluster_sample(cluster_id):\n",
        "    df_cluster = cluster_groups[cluster_id]\n",
        "    for bullet in np.random.choice(df_cluster.Bullet.values, 5,\n",
        "                                   replace=False):\n",
        "        print(bullet)\n",
        "\n",
        "print_cluster_sample(0)"
      ]
    },
    {
      "cell_type": "markdown",
      "metadata": {
        "id": "tIIdClpNN1OJ"
      },
      "source": [
        "Now, lets visualize all 15 clusters using word clouds.\n",
        "\n",
        "**Visualizing all 15 clusters**"
      ]
    },
    {
      "cell_type": "code",
      "execution_count": null,
      "metadata": {
        "id": "OBSHj360N1OJ"
      },
      "outputs": [],
      "source": [
        "def plot_wordcloud_grid(cluster_groups, num_rows=5, num_columns=3,\n",
        "                        **kwargs):\n",
        "    figure, axes = plt.subplots(num_rows, num_columns, figsize=(20, 15))\n",
        "    cluster_groups_copy = cluster_groups[:]\n",
        "    for r in range(num_rows):\n",
        "        for c in range(num_columns):\n",
        "            if not cluster_groups_copy:\n",
        "                break\n",
        "\n",
        "            df_cluster = cluster_groups_copy.pop(0)\n",
        "            wordcloud_image = cluster_to_image(df_cluster, **kwargs)\n",
        "            ax = axes[r][c]\n",
        "            ax.imshow(wordcloud_image,\n",
        "            interpolation=\"bilinear\")\n",
        "            ax.set_title(f\"Cluster {df_cluster.Cluster.iloc[0]}\")\n",
        "            ax.set_xticks([])\n",
        "            ax.set_yticks([])\n",
        "\n",
        "plot_wordcloud_grid(cluster_groups)\n",
        "plt.show()"
      ]
    },
    {
      "cell_type": "markdown",
      "metadata": {
        "id": "ojnyfDC4N1OK"
      },
      "source": [
        "Some of the clusters are highly technical. For instance, Cluster 7 fixates on external data science libraries such as Scikit-Learn, Pandas, NumPy, Matplotlib and SciPy. Lets print sample some bullets from Cluster 7, and confirm their focus on DS libraries.\n",
        "\n",
        "**Printing sample bullets from Cluster 7**"
      ]
    },
    {
      "cell_type": "code",
      "execution_count": null,
      "metadata": {
        "id": "WeF02mBLN1OK"
      },
      "outputs": [],
      "source": [
        "np.random.seed(1)\n",
        "print_cluster_sample(7)"
      ]
    },
    {
      "cell_type": "markdown",
      "metadata": {
        "id": "Cr95caiSN1OK"
      },
      "source": [
        "Meanwhile, other clusters focus on non-technical skills. Perhaps we can separate the technical clusters and soft-skill clusters using text similarity (to our resume). Lets examine this possibility. We’ll start by computing the cosine similarity between each bullet in `total_bullets` and our resume.\n",
        "\n",
        "**Computing similarities between the bullets and our resume**"
      ]
    },
    {
      "cell_type": "code",
      "execution_count": null,
      "metadata": {
        "id": "2j4g_TfRN1OK"
      },
      "outputs": [],
      "source": [
        "def compute_bullet_similarity(bullet_texts):\n",
        "    bullet_vectorizer = TfidfVectorizer(stop_words='english')\n",
        "    matrix = bullet_vectorizer.fit_transform(bullet_texts + [resume])\n",
        "    matrix = matrix.toarray()\n",
        "    return matrix[:-1] @ matrix[-1]\n",
        "\n",
        "bullet_cosine_similarities = compute_bullet_similarity(total_bullets)"
      ]
    },
    {
      "cell_type": "markdown",
      "metadata": {
        "id": "-9ISYErEN1OK"
      },
      "source": [
        "Our `bullet_cosine_similarities` array contains the text similarities across all clustered bullets. For any given cluster, we can combine these cosine similarities into a single similarity score. According to our hypothesis, a technical cluster should have a higher mean similarity than a soft-skill similarity cluster. Lets confirm if this is the case for the technical Cluster 7 and the soft-skill Cluster 0.\n",
        "\n",
        "**Comparing mean resume similarities**"
      ]
    },
    {
      "cell_type": "code",
      "execution_count": null,
      "metadata": {
        "id": "obiENK4AN1OK"
      },
      "outputs": [],
      "source": [
        "def compute_mean_similarity(df_cluster):\n",
        "    indices = df_cluster.Index.values\n",
        "    return bullet_cosine_similarities[indices].mean()\n",
        "\n",
        "tech_mean = compute_mean_similarity(cluster_groups[7])\n",
        "soft_mean =  compute_mean_similarity(cluster_groups[0])\n",
        "print(f\"Technical cluster 7 has a mean similarity of {tech_mean:.3f}\")\n",
        "print(f\"Soft-skill cluster 3 has a mean similarity of {soft_mean:.3f}\")"
      ]
    },
    {
      "cell_type": "markdown",
      "metadata": {
        "id": "-We5Zx4lN1OK"
      },
      "source": [
        "The technical cluster is 10x more proximate to our resume than the soft-skill cluster. Lets compute the average similarity for all 15 clusters. Afterwards, we’ll sort the clusters by their similarity score, in descending order.\n",
        "\n",
        "**Sorting subplots by resume similarity**"
      ]
    },
    {
      "cell_type": "code",
      "execution_count": null,
      "metadata": {
        "id": "4UbN6Ed_N1OK"
      },
      "outputs": [],
      "source": [
        "def sort_cluster_groups(cluster_groups):\n",
        "    mean_similarities = [compute_mean_similarity(df_cluster)\n",
        "                         for df_cluster in cluster_groups]\n",
        "\n",
        "    sorted_indices = sorted(range(len(cluster_groups)),\n",
        "                            key=lambda i: mean_similarities[i],\n",
        "                            reverse=True)\n",
        "    return [cluster_groups[i] for i in sorted_indices]\n",
        "\n",
        "sorted_cluster_groups = sort_cluster_groups(cluster_groups)\n",
        "plot_wordcloud_grid(sorted_cluster_groups)\n",
        "plt.show()"
      ]
    },
    {
      "cell_type": "markdown",
      "metadata": {
        "id": "AIcSuri_N1OK"
      },
      "source": [
        "Our hypothesis was right! The first 2 rows within the updated subplot clearly correspond to technical skills. F\n",
        "\n",
        "### Investigating the Technical Skill Clusters\n",
        "Lets turn our attention to the 6 technical-skill cluster within first 2 rows of subplot grid. Below, we’ll re-plot their associated word-clouds in a 2-row by 3-column grid."
      ]
    },
    {
      "cell_type": "code",
      "execution_count": null,
      "metadata": {
        "id": "pRhwiaOON1OK"
      },
      "outputs": [],
      "source": [
        "plot_wordcloud_grid(sorted_cluster_groups[:6], num_rows=3, num_columns=2)\n",
        "plt.show()"
      ]
    },
    {
      "cell_type": "markdown",
      "metadata": {
        "id": "VCLIWVJ7N1OK"
      },
      "source": [
        "The first 2 rows are insightful. We'll need to brush up on our machine learning skills. However, the final 2 technical-skill clusters appear are vague and uninformative. Below, we’ll sample bullets from these clusters (8 and 1) in order to confirm a lack of pattern.\n",
        "\n",
        "**Printing sample bullets from Clusters 8 and 1**"
      ]
    },
    {
      "cell_type": "code",
      "execution_count": null,
      "metadata": {
        "id": "w3XOPuimN1OK"
      },
      "outputs": [],
      "source": [
        "np.random.seed(1)\n",
        "for cluster_id in [8, 1]:\n",
        "    print(f'\\nCluster {cluster_id}:')\n",
        "    print_cluster_sample(cluster_id)"
      ]
    },
    {
      "cell_type": "markdown",
      "metadata": {
        "id": "zM4A4GL1N1OK"
      },
      "source": [
        "We’ve finished our analysis of the technical-skill clusters. 4 of these clusters were relevant. 2 were not. Now, lets turn our attention to the remaining soft-skill clusters.\n",
        "\n",
        "### Investing the Soft-Skill Clusters\n",
        "We’ll start by visualizing the remaining 9 soft-skill clusters in a 3-row by 3-column grid.\n",
        "\n",
        "**Plotting the remaining 9 soft-skill clusters**"
      ]
    },
    {
      "cell_type": "code",
      "execution_count": null,
      "metadata": {
        "id": "K5lZbEWmN1OK"
      },
      "outputs": [],
      "source": [
        "plot_wordcloud_grid(sorted_cluster_groups[6:], num_rows=3, num_columns=3)\n",
        "plt.show()"
      ]
    },
    {
      "cell_type": "markdown",
      "metadata": {
        "id": "q149bz_xN1OK"
      },
      "source": [
        "The remaining clusters appear abmbiguous. Also, our soft-skill clusters do not represent true skills! For instance, Cluster 3 (row 0, column 0) consists of bullets requiring a minimal count of years working in industry. Similarly, Cluster 6 (row 2, column 1) represents educational constraints; requiring a quantitative degree to land an interview.\n",
        "\n",
        "**Printing sample bullets from Clusters 6 and 3**"
      ]
    },
    {
      "cell_type": "code",
      "execution_count": null,
      "metadata": {
        "id": "qatCIQdcN1OL"
      },
      "outputs": [],
      "source": [
        "np.random.seed(1)\n",
        "for cluster_id in [6, 3]:\n",
        "    print(f'\\nCluster {cluster_id}:')\n",
        "    print_cluster_sample(cluster_id)"
      ]
    },
    {
      "cell_type": "markdown",
      "metadata": {
        "id": "nZMmH8M1N1OL"
      },
      "source": [
        "However, one of our soft-skill clusters is very easy to interpret. Cluster 5 (row 0, column 1) focuses on interpersonal communication skills; both written and verbal.\n",
        "\n",
        "\n",
        "### Exploring Clusters at Alternative Values of K\n",
        "\n",
        "Lets we’ll regenerate the clusters using alternative values of K. We’ll begin by setting K to 25, and plotting the results in a 5-row by 5-column grid. The subplots will be sorted based on cluster similarity to our resume.\n",
        "\n",
        "**Visualizing 25 sorted clusters**"
      ]
    },
    {
      "cell_type": "code",
      "execution_count": null,
      "metadata": {
        "id": "LF8av-aNN1OL"
      },
      "outputs": [],
      "source": [
        "np.random.seed(0)\n",
        "cluster_groups = compute_cluster_groups(shrunk_norm_matrix, k=25)\n",
        "sorted_cluster_groups = sort_cluster_groups(cluster_groups)\n",
        "plot_wordcloud_grid(sorted_cluster_groups, num_rows=5, num_columns=5)\n",
        "plt.show()"
      ]
    },
    {
      "cell_type": "markdown",
      "metadata": {
        "id": "zAdRfk85N1OL"
      },
      "source": [
        "Raising K from 15 to 25 has retained all previously-observed insightful clusters. Also, the parameter change has introduced several new interesting clusters (Including Cluster 2: Non-Python Visualization tools and Cluster 23; Databases) Will the stability of these clusters persist if we shift K to an intermediate value of 20? Lets find out.\n",
        "\n",
        "**Visualizing 20 sorted clusters**"
      ]
    },
    {
      "cell_type": "code",
      "execution_count": null,
      "metadata": {
        "id": "YQVJWNbaN1OL"
      },
      "outputs": [],
      "source": [
        "np.random.seed(0)\n",
        "cluster_groups = compute_cluster_groups(shrunk_norm_matrix, k=20)\n",
        "sorted_cluster_groups = sort_cluster_groups(#FIXME)\n",
        "plot_wordcloud_grid(sorted_cluster_groups, num_rows=4, num_columns=5)\n",
        "plt.show()"
      ]
    },
    {
      "cell_type": "markdown",
      "metadata": {
        "id": "U3DPB21PN1OL"
      },
      "source": [
        "Most of our observed insightful clusters remain at `k=20`. However, the statistical analysis cluster observed at K-values of 15 and 25 is currently missing. If we cluster over just a single value of K, we risk missing out on useful insights. Thus, it’s preferable to visualize results over a range of K-values during text analysis. With this in mind, lets see what happens when we drop K to 10.\n",
        "\n",
        "**Visualizing 10 sorted clusters**"
      ]
    },
    {
      "cell_type": "code",
      "execution_count": null,
      "metadata": {
        "id": "_7hf8UjdN1OL"
      },
      "outputs": [],
      "source": [
        "np.random.seed(0)\n",
        "cluster_groups = compute_cluster_groups(shrunk_norm_matrix, k=10)\n",
        "sorted_cluster_groups = sort_cluster_groups(cluster_groups)\n",
        "plot_wordcloud_grid(sorted_cluster_groups, num_rows=5, num_columns=2)\n",
        "plt.show()"
      ]
    },
    {
      "cell_type": "markdown",
      "metadata": {
        "id": "OmpnfcUDN1OL"
      },
      "source": [
        "The 10 visualized clusters are quite limited. Nonetheless, 4 of the 10 clusters contain the critical skills we’ve previously observed. These include Python programming (row 0, column 0), machine learning (row 0, column 1), and communication skills (row 2, column 1). Also, the statistical analysis cluster has reappered (row 1, column 0).\n",
        "Surprisingly, some of our skill-clusters are quite versatile.\n",
        "\n",
        "So far, our observations have been limited to the 60 most relevant job postings. What will happen if we extand our analysis to the top 700 postings?  We’ll now find out.\n",
        "\n",
        "### Analyzing the 700 Most-Relevant Postings\n",
        "\n",
        "We’ll start by preparing `sorted_df_jobs[:700].Bullets` for clustering.\n",
        "\n",
        "**`Preparing sorted_df_jobs[:700]` for clustering analysis**"
      ]
    },
    {
      "cell_type": "code",
      "execution_count": null,
      "metadata": {
        "id": "13xVwr7kN1OL"
      },
      "outputs": [],
      "source": [
        "np.random.seed(0)\n",
        "total_bullets_700 = set()\n",
        "for bullets in sorted_df_jobs[:700].Bullets:\n",
        "    total_bullets_700.update([bullet.strip()\n",
        "                              for bullet in bullets])\n",
        "\n",
        "total_bullets_700 = sorted(total_bullets_700)\n",
        "vectorizer_700 = TfidfVectorizer(stop_words='english')\n",
        "tfidf_matrix_700 = vectorizer_700.fit_transform(#FIXME)\n",
        "shrunk_norm_matrix_700 = shrink_matrix(#FIXME)\n",
        "print(f\"We've vectorized {shrunk_norm_matrix_700.shape[0]} bullets\")"
      ]
    },
    {
      "cell_type": "markdown",
      "metadata": {
        "id": "dQa34p8MN1OL"
      },
      "source": [
        "We’ve vectorized 10,194 bullet-points. Now, we’ll generate an Elbow plot across the vectorized results. Based on previous observations, we don’t expect the Elbow plot to be particularly informative.\n",
        "\n",
        "**Plotting an elbow curve for 10,194 bullets**"
      ]
    },
    {
      "cell_type": "code",
      "execution_count": null,
      "metadata": {
        "id": "oFyWsM2YN1OM"
      },
      "outputs": [],
      "source": [
        "np.random.seed(0)\n",
        "generate_elbow_plot(shrunk_norm_matrix_700)"
      ]
    },
    {
      "cell_type": "markdown",
      "metadata": {
        "id": "iYoc7zBJN1OM"
      },
      "source": [
        "As expected, the precise location of the elbow is not clear within the plot. The elbow is spread out between a K of 10 and 25. We’ll deal with ambiguity, by arbitrarily setting K to 20.\n",
        "\n",
        "**WARNING: As we discussed in Section Fifteen, the K-means outputs could vary across computers for large matrices containing 10,000-by-100 elements. Thus, your local clustering results might differ from the output seen below. Nonetheless, you should be able to draw similar conclusions to the ones presented in this book.**\n",
        "\n",
        "**Visualizing 20 sorted clusters for 10,194 bullets**"
      ]
    },
    {
      "cell_type": "code",
      "execution_count": null,
      "metadata": {
        "id": "wH3V5AdKN1OM"
      },
      "outputs": [],
      "source": [
        "np.random.seed(0)\n",
        "cluster_groups_700 = compute_cluster_groups(shrunk_norm_matrix_700, k=20)\n",
        "bullet_cosine_similarities = compute_bullet_similarity(total_bullets_700)\n",
        "sorted_cluster_groups_700 = sort_cluster_groups(cluster_groups_700)\n",
        "plot_wordcloud_grid(sorted_cluster_groups_700, num_rows=4, num_columns=5,\n",
        "                    vectorizer=vectorizer_700, tfidf_matrix=tfidf_matrix_700)"
      ]
    },
    {
      "cell_type": "markdown",
      "metadata": {
        "id": "t_hphmnuN1OM"
      },
      "source": [
        "Our clustering output looks very similar to what we’ve seen before. The key insightful clusters we’ve observed at 60 postings still remain."
      ]
    }
  ],
  "metadata": {
    "kernelspec": {
      "display_name": "Python 3",
      "language": "python",
      "name": "python3"
    },
    "language_info": {
      "codemirror_mode": {
        "name": "ipython",
        "version": 3
      },
      "file_extension": ".py",
      "mimetype": "text/x-python",
      "name": "python",
      "nbconvert_exporter": "python",
      "pygments_lexer": "ipython3",
      "version": "3.10.11"
    },
    "colab": {
      "provenance": [],
      "include_colab_link": true
    }
  },
  "nbformat": 4,
  "nbformat_minor": 0
}